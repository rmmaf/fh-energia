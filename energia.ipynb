{
 "cells": [
  {
   "cell_type": "code",
   "execution_count": 1,
   "metadata": {},
   "outputs": [
    {
     "data": {
      "text/plain": [
       "'c:\\\\Users\\\\digom\\\\Documents\\\\GitHub\\\\fh-energia'"
      ]
     },
     "execution_count": 1,
     "metadata": {},
     "output_type": "execute_result"
    }
   ],
   "source": [
    "import polars as pl\n",
    "import os\n",
    "os.getcwd()\n"
   ]
  },
  {
   "cell_type": "code",
   "execution_count": 41,
   "metadata": {},
   "outputs": [],
   "source": [
    "df_cnpj = pl.scan_csv('./data/estabelecimentos.csv', has_header=False, infer_schema_length=0)\n",
    "if False:\n",
    "    import polars as pl\n",
    "    # Assuming 'df' is your DataFrame\n",
    "    n = 1  # Change this to the number of rows you want to drop\n",
    "\n",
    "    df_cnpj = df_cnpj.slice(n, len(df_cnpj) - n)\n"
   ]
  },
  {
   "cell_type": "code",
   "execution_count": null,
   "metadata": {},
   "outputs": [],
   "source": [
    "df_cnpj"
   ]
  },
  {
   "cell_type": "code",
   "execution_count": 42,
   "metadata": {},
   "outputs": [],
   "source": [
    "df_cnpj = df_cnpj.select('column_1', 'column_2', 'column_3', 'column_4',  'column_12', 'column_14', 'column_15', 'column_16', 'column_19')\n",
    "df_cnpj = df_cnpj.with_columns(pl.concat_str(\n",
    "        [\n",
    "            pl.col(\"column_1\"),\n",
    "            pl.col(\"column_2\"),\n",
    "            pl.col(\"column_3\"),\n",
    "        ],\n",
    "        separator=\"\",\n",
    "    ).alias('cnpj'),\n",
    "    pl.concat_str(\n",
    "        [\n",
    "            pl.col(\"column_14\"),\n",
    "            pl.col(\"column_15\"),\n",
    "            pl.col(\"column_16\"),\n",
    "        ],\n",
    "        separator=\" \",\n",
    "    ).alias('endereco'))\\\n",
    "            .rename({'column_4': 'matriz_filial', 'column_19': 'CEP', 'column_12':'CNAE', 'column_16': 'numero'})\\\n",
    "            .select(['cnpj', 'endereco', 'matriz_filial', 'CEP','CNAE', 'numero'])\n"
   ]
  },
  {
   "cell_type": "code",
   "execution_count": 43,
   "metadata": {},
   "outputs": [
    {
     "data": {
      "text/html": [
       "<div><style>\n",
       ".dataframe > thead > tr,\n",
       ".dataframe > tbody > tr {\n",
       "  text-align: right;\n",
       "  white-space: pre-wrap;\n",
       "}\n",
       "</style>\n",
       "<small>shape: (5, 6)</small><table border=\"1\" class=\"dataframe\"><thead><tr><th>cnpj</th><th>endereco</th><th>matriz_filial</th><th>CEP</th><th>CNAE</th><th>numero</th></tr><tr><td>str</td><td>str</td><td>str</td><td>str</td><td>str</td><td>str</td></tr></thead><tbody><tr><td>&quot;012&quot;</td><td>&quot;13 14 15&quot;</td><td>&quot;3&quot;</td><td>&quot;18&quot;</td><td>&quot;11&quot;</td><td>&quot;15&quot;</td></tr><tr><td>&quot;07396865000168…</td><td>&quot;RUA TUCANEIRA …</td><td>&quot;1&quot;</td><td>&quot;89136000&quot;</td><td>&quot;1412602&quot;</td><td>&quot;30&quot;</td></tr><tr><td>&quot;64904295001851…</td><td>&quot;AVENIDA MENINO…</td><td>&quot;2&quot;</td><td>&quot;57046000&quot;</td><td>&quot;4639701&quot;</td><td>&quot;8551B&quot;</td></tr><tr><td>&quot;76016369000316…</td><td>&quot;RUA DO COMERCI…</td><td>&quot;2&quot;</td><td>&quot;11010141&quot;</td><td>&quot;4632001&quot;</td><td>&quot;55&quot;</td></tr><tr><td>&quot;52302726000182…</td><td>&quot;RUA GREGORIO L…</td><td>&quot;1&quot;</td><td>&quot;13472080&quot;</td><td>&quot;4712100&quot;</td><td>&quot;496&quot;</td></tr></tbody></table></div>"
      ],
      "text/plain": [
       "shape: (5, 6)\n",
       "┌────────────────┬──────────────────────────────┬───────────────┬──────────┬─────────┬────────┐\n",
       "│ cnpj           ┆ endereco                     ┆ matriz_filial ┆ CEP      ┆ CNAE    ┆ numero │\n",
       "│ ---            ┆ ---                          ┆ ---           ┆ ---      ┆ ---     ┆ ---    │\n",
       "│ str            ┆ str                          ┆ str           ┆ str      ┆ str     ┆ str    │\n",
       "╞════════════════╪══════════════════════════════╪═══════════════╪══════════╪═════════╪════════╡\n",
       "│ 012            ┆ 13 14 15                     ┆ 3             ┆ 18       ┆ 11      ┆ 15     │\n",
       "│ 07396865000168 ┆ RUA TUCANEIRA 30             ┆ 1             ┆ 89136000 ┆ 1412602 ┆ 30     │\n",
       "│ 64904295001851 ┆ AVENIDA MENINO MARCELO 8551B ┆ 2             ┆ 57046000 ┆ 4639701 ┆ 8551B  │\n",
       "│ 76016369000316 ┆ RUA DO COMERCIO 55           ┆ 2             ┆ 11010141 ┆ 4632001 ┆ 55     │\n",
       "│ 52302726000182 ┆ RUA GREGORIO LUCHIARI 496    ┆ 1             ┆ 13472080 ┆ 4712100 ┆ 496    │\n",
       "└────────────────┴──────────────────────────────┴───────────────┴──────────┴─────────┴────────┘"
      ]
     },
     "execution_count": 43,
     "metadata": {},
     "output_type": "execute_result"
    }
   ],
   "source": [
    "df_cnpj.head().collect()"
   ]
  },
  {
   "cell_type": "code",
   "execution_count": 30,
   "metadata": {},
   "outputs": [],
   "source": [
    "df_bdgd = pl.scan_csv('data/bdgd/ucmt_pj.csv', separator=\";\", encoding='utf8-lossy', infer_schema_length=0)\n",
    "df_bdgd = df_bdgd.with_columns(pl.col('CEP').str.replace('\\.', '').str.replace('-', '').alias('CEP'),\n",
    "                               pl.col('CNAE').str.replace('-', '').str.replace('/', '').alias('CNAE'))"
   ]
  },
  {
   "cell_type": "code",
   "execution_count": 32,
   "metadata": {},
   "outputs": [
    {
     "data": {
      "text/plain": [
       "<bound method DataFrame.to_pandas of shape: (5, 1)\n",
       "┌─────────┐\n",
       "│ CNAE    │\n",
       "│ ---     │\n",
       "│ str     │\n",
       "╞═════════╡\n",
       "│ 6462000 │\n",
       "│ 1813099 │\n",
       "│ 3600601 │\n",
       "│ 3600601 │\n",
       "│ 7490199 │\n",
       "└─────────┘>"
      ]
     },
     "execution_count": 32,
     "metadata": {},
     "output_type": "execute_result"
    }
   ],
   "source": [
    "\n",
    "df_bdgd.select('CNAE').head().collect().to_pandas"
   ]
  },
  {
   "cell_type": "code",
   "execution_count": 44,
   "metadata": {},
   "outputs": [
    {
     "data": {
      "text/html": [
       "<div><style>\n",
       ".dataframe > thead > tr,\n",
       ".dataframe > tbody > tr {\n",
       "  text-align: right;\n",
       "  white-space: pre-wrap;\n",
       "}\n",
       "</style>\n",
       "<small>shape: (5, 84)</small><table border=\"1\" class=\"dataframe\"><thead><tr><th>cnpj</th><th>endereco</th><th>matriz_filial</th><th>CEP</th><th>CNAE</th><th>numero</th><th>COD_ID</th><th>DIST</th><th>PN_CON</th><th>PAC</th><th>CTMT</th><th>UNI_TR_AT</th><th>SUB</th><th>CONJ</th><th>MUN</th><th>CEG_GD</th><th>LGRD</th><th>BRR</th><th>CLAS_SUB</th><th>TIP_CC</th><th>FAS_CON</th><th>GRU_TEN</th><th>TEN_FORN</th><th>GRU_TAR</th><th>SIT_ATIV</th><th>DAT_CON</th><th>CAR_INST</th><th>LIV</th><th>ARE_LOC</th><th>TIP_SIST</th><th>DEM_CONT</th><th>DEM_01</th><th>DEM_02</th><th>DEM_03</th><th>DEM_04</th><th>DEM_05</th><th>DEM_06</th><th>&hellip;</th><th>ENE_05</th><th>ENE_06</th><th>ENE_07</th><th>ENE_08</th><th>ENE_09</th><th>ENE_10</th><th>ENE_11</th><th>ENE_12</th><th>DIC_01</th><th>DIC_02</th><th>DIC_03</th><th>DIC_04</th><th>DIC_05</th><th>DIC_06</th><th>DIC_07</th><th>DIC_08</th><th>DIC_09</th><th>DIC_10</th><th>DIC_11</th><th>DIC_12</th><th>FIC_01</th><th>FIC_02</th><th>FIC_03</th><th>FIC_04</th><th>FIC_05</th><th>FIC_06</th><th>FIC_07</th><th>FIC_08</th><th>FIC_09</th><th>FIC_10</th><th>FIC_11</th><th>FIC_12</th><th>SEMRED</th><th>DESCR</th><th>DATA_BASE</th><th>POINT_X</th><th>POINT_Y</th></tr><tr><td>str</td><td>str</td><td>str</td><td>str</td><td>str</td><td>str</td><td>str</td><td>str</td><td>str</td><td>str</td><td>str</td><td>str</td><td>str</td><td>str</td><td>str</td><td>str</td><td>str</td><td>str</td><td>str</td><td>str</td><td>str</td><td>str</td><td>str</td><td>str</td><td>str</td><td>str</td><td>str</td><td>str</td><td>str</td><td>str</td><td>str</td><td>str</td><td>str</td><td>str</td><td>str</td><td>str</td><td>str</td><td>&hellip;</td><td>str</td><td>str</td><td>str</td><td>str</td><td>str</td><td>str</td><td>str</td><td>str</td><td>str</td><td>str</td><td>str</td><td>str</td><td>str</td><td>str</td><td>str</td><td>str</td><td>str</td><td>str</td><td>str</td><td>str</td><td>str</td><td>str</td><td>str</td><td>str</td><td>str</td><td>str</td><td>str</td><td>str</td><td>str</td><td>str</td><td>str</td><td>str</td><td>str</td><td>str</td><td>str</td><td>str</td><td>str</td></tr></thead><tbody><tr><td>&quot;58142886000198…</td><td>&quot;RUA XAVIER PIN…</td><td>&quot;1&quot;</td><td>&quot;11015090&quot;</td><td>&quot;4721102&quot;</td><td>&quot;253&quot;</td><td>&quot;2036308753&quot;</td><td>&quot;2937&quot;</td><td>&quot;1106146&quot;</td><td>&quot;148392427&quot;</td><td>&quot;VNO32&quot;</td><td>&quot;VNO-ETR104&quot;</td><td>&quot;VNO&quot;</td><td>&quot;13557&quot;</td><td>&quot;3548500&quot;</td><td>null</td><td>&quot;R XAVIER PINHE…</td><td>&quot;VL MATIAS&quot;</td><td>&quot;CO1&quot;</td><td>&quot;MT-Tipo1&quot;</td><td>&quot;ABCN&quot;</td><td>&quot;MT&quot;</td><td>&quot;49&quot;</td><td>&quot;A4&quot;</td><td>&quot;AT&quot;</td><td>&quot;14/10/2015&quot;</td><td>&quot;100000&quot;</td><td>&quot;0&quot;</td><td>&quot;UB&quot;</td><td>&quot;RD_INTERLIG&quot;</td><td>&quot;80&quot;</td><td>&quot;88&quot;</td><td>&quot;81&quot;</td><td>&quot;82&quot;</td><td>&quot;74&quot;</td><td>&quot;90&quot;</td><td>&quot;82&quot;</td><td>&hellip;</td><td>&quot;20559&quot;</td><td>&quot;18684&quot;</td><td>&quot;20227&quot;</td><td>&quot;19008&quot;</td><td>&quot;18068&quot;</td><td>&quot;22513&quot;</td><td>&quot;22654&quot;</td><td>&quot;21726&quot;</td><td>&quot;0&quot;</td><td>&quot;0&quot;</td><td>&quot;0&quot;</td><td>&quot;0&quot;</td><td>&quot;5.473&quot;</td><td>&quot;0&quot;</td><td>&quot;0&quot;</td><td>&quot;0&quot;</td><td>&quot;0&quot;</td><td>&quot;0&quot;</td><td>&quot;0&quot;</td><td>&quot;0&quot;</td><td>&quot;0&quot;</td><td>&quot;0&quot;</td><td>&quot;0&quot;</td><td>&quot;0&quot;</td><td>&quot;1&quot;</td><td>&quot;0&quot;</td><td>&quot;0&quot;</td><td>&quot;0&quot;</td><td>&quot;0&quot;</td><td>&quot;0&quot;</td><td>&quot;0&quot;</td><td>&quot;0&quot;</td><td>&quot;1&quot;</td><td>null</td><td>&quot;31DEC2022:00:0…</td><td>&quot;-46.32441144&quot;</td><td>&quot;-23.95030581&quot;</td></tr><tr><td>&quot;87990800000185…</td><td>&quot;AVENIDA FLORES…</td><td>&quot;1&quot;</td><td>&quot;94910003&quot;</td><td>&quot;8411600&quot;</td><td>&quot;2251&quot;</td><td>&quot;3085212143&quot;</td><td>&quot;396&quot;</td><td>&quot;4987747&quot;</td><td>&quot;2969157&quot;</td><td>&quot;CCB23&quot;</td><td>&quot;CCB-ETR202&quot;</td><td>&quot;CCB&quot;</td><td>&quot;16531&quot;</td><td>&quot;4303103&quot;</td><td>null</td><td>&quot;AV GAL FLORES …</td><td>&quot;VL CACHOEIRINH…</td><td>&quot;PP3&quot;</td><td>&quot;MT-Tipo10&quot;</td><td>&quot;ABCN&quot;</td><td>&quot;MT&quot;</td><td>&quot;63&quot;</td><td>&quot;A4&quot;</td><td>&quot;AT&quot;</td><td>&quot;07/06/2014&quot;</td><td>&quot;150&quot;</td><td>&quot;0&quot;</td><td>&quot;UB&quot;</td><td>&quot;RD_INTERLIG&quot;</td><td>&quot;150&quot;</td><td>&quot;173&quot;</td><td>&quot;153&quot;</td><td>&quot;146&quot;</td><td>&quot;116&quot;</td><td>&quot;93&quot;</td><td>&quot;93&quot;</td><td>&hellip;</td><td>&quot;15701&quot;</td><td>&quot;15796&quot;</td><td>&quot;17203&quot;</td><td>&quot;15368&quot;</td><td>&quot;14505&quot;</td><td>&quot;18031.505&quot;</td><td>&quot;20978.339&quot;</td><td>&quot;21677&quot;</td><td>&quot;0&quot;</td><td>&quot;0&quot;</td><td>&quot;0&quot;</td><td>&quot;0&quot;</td><td>&quot;0&quot;</td><td>&quot;0&quot;</td><td>&quot;0.0661&quot;</td><td>&quot;0&quot;</td><td>&quot;0.1138&quot;</td><td>&quot;0.0541&quot;</td><td>&quot;0&quot;</td><td>&quot;0&quot;</td><td>&quot;0&quot;</td><td>&quot;0&quot;</td><td>&quot;0&quot;</td><td>&quot;0&quot;</td><td>&quot;0&quot;</td><td>&quot;0&quot;</td><td>&quot;1&quot;</td><td>&quot;0&quot;</td><td>&quot;1&quot;</td><td>&quot;1&quot;</td><td>&quot;0&quot;</td><td>&quot;0&quot;</td><td>&quot;1&quot;</td><td>null</td><td>&quot;31DEC2022:00:0…</td><td>&quot;-51.09229469&quot;</td><td>&quot;-29.94752995&quot;</td></tr><tr><td>&quot;07397290000106…</td><td>&quot;AVENIDA GIOVAN…</td><td>&quot;1&quot;</td><td>&quot;09111340&quot;</td><td>&quot;4731800&quot;</td><td>&quot;1980&quot;</td><td>&quot;MTE0018847&quot;</td><td>&quot;390&quot;</td><td>&quot;1039460&quot;</td><td>&quot;34796742738212…</td><td>&quot;CAP0108&quot;</td><td>&quot;DCAP-EQ-TR1&quot;</td><td>&quot;DCAP&quot;</td><td>&quot;12874&quot;</td><td>&quot;3547809&quot;</td><td>null</td><td>&quot;R GIOVANNI BAT…</td><td>&quot;VILA HOMERO TH…</td><td>&quot;CO1&quot;</td><td>&quot;MT-Tipo02&quot;</td><td>&quot;ABC&quot;</td><td>&quot;MT&quot;</td><td>&quot;49&quot;</td><td>&quot;A4&quot;</td><td>&quot;AT&quot;</td><td>&quot;02/08/2021&quot;</td><td>&quot;0&quot;</td><td>&quot;0&quot;</td><td>&quot;UB&quot;</td><td>&quot;RD_INTERLIG&quot;</td><td>&quot;135&quot;</td><td>&quot;150&quot;</td><td>&quot;150&quot;</td><td>&quot;150&quot;</td><td>&quot;150&quot;</td><td>&quot;150&quot;</td><td>&quot;150&quot;</td><td>&hellip;</td><td>&quot;23678.51&quot;</td><td>&quot;28646.04&quot;</td><td>&quot;28304.9&quot;</td><td>&quot;26103.7&quot;</td><td>&quot;25580.02&quot;</td><td>&quot;27202.55&quot;</td><td>&quot;29078.56&quot;</td><td>&quot;37617.65&quot;</td><td>&quot;0&quot;</td><td>&quot;0&quot;</td><td>&quot;0&quot;</td><td>&quot;0&quot;</td><td>&quot;0&quot;</td><td>&quot;0&quot;</td><td>&quot;0&quot;</td><td>&quot;0&quot;</td><td>&quot;0&quot;</td><td>&quot;0&quot;</td><td>&quot;0&quot;</td><td>&quot;0&quot;</td><td>&quot;0&quot;</td><td>&quot;0&quot;</td><td>&quot;0&quot;</td><td>&quot;0&quot;</td><td>&quot;0&quot;</td><td>&quot;0&quot;</td><td>&quot;0&quot;</td><td>&quot;0&quot;</td><td>&quot;0&quot;</td><td>&quot;0&quot;</td><td>&quot;0&quot;</td><td>&quot;0&quot;</td><td>&quot;0&quot;</td><td>null</td><td>&quot;31DEC2022:00:0…</td><td>&quot;-46.69939982&quot;</td><td>&quot;-23.65417898&quot;</td></tr><tr><td>&quot;07397290000106…</td><td>&quot;AVENIDA GIOVAN…</td><td>&quot;1&quot;</td><td>&quot;09111340&quot;</td><td>&quot;4731800&quot;</td><td>&quot;1980&quot;</td><td>&quot;MTE0014319&quot;</td><td>&quot;390&quot;</td><td>&quot;1041048&quot;</td><td>&quot;34804840738206…</td><td>&quot;CAP0109&quot;</td><td>&quot;DCAP-EQ-TR4&quot;</td><td>&quot;DCAP&quot;</td><td>&quot;12874&quot;</td><td>&quot;3547809&quot;</td><td>null</td><td>&quot;R GIOVANNI BAT…</td><td>&quot;VILA HOMERO TH…</td><td>&quot;CO1&quot;</td><td>&quot;MT-Tipo01&quot;</td><td>&quot;ABC&quot;</td><td>&quot;MT&quot;</td><td>&quot;49&quot;</td><td>&quot;A4&quot;</td><td>&quot;AT&quot;</td><td>&quot;20/10/2020&quot;</td><td>&quot;299.7&quot;</td><td>&quot;0&quot;</td><td>&quot;UB&quot;</td><td>&quot;RD_INTERLIG&quot;</td><td>&quot;132.9&quot;</td><td>&quot;0&quot;</td><td>&quot;0&quot;</td><td>&quot;0&quot;</td><td>&quot;0&quot;</td><td>&quot;0&quot;</td><td>&quot;0&quot;</td><td>&hellip;</td><td>&quot;0&quot;</td><td>&quot;0&quot;</td><td>&quot;0&quot;</td><td>&quot;0&quot;</td><td>&quot;0&quot;</td><td>&quot;0&quot;</td><td>&quot;0&quot;</td><td>&quot;0&quot;</td><td>&quot;0&quot;</td><td>&quot;0&quot;</td><td>&quot;0&quot;</td><td>&quot;0&quot;</td><td>&quot;0&quot;</td><td>&quot;0&quot;</td><td>&quot;0&quot;</td><td>&quot;0&quot;</td><td>&quot;0&quot;</td><td>&quot;0&quot;</td><td>&quot;0&quot;</td><td>&quot;0&quot;</td><td>&quot;0&quot;</td><td>&quot;0&quot;</td><td>&quot;0&quot;</td><td>&quot;0&quot;</td><td>&quot;0&quot;</td><td>&quot;0&quot;</td><td>&quot;0&quot;</td><td>&quot;0&quot;</td><td>&quot;0&quot;</td><td>&quot;0&quot;</td><td>&quot;0&quot;</td><td>&quot;0&quot;</td><td>&quot;0&quot;</td><td>null</td><td>&quot;31DEC2022:00:0…</td><td>&quot;-46.62060261&quot;</td><td>&quot;-23.56290749&quot;</td></tr><tr><td>&quot;37307139000435…</td><td>&quot;AVENIDA ANHANG…</td><td>&quot;2&quot;</td><td>&quot;74043011&quot;</td><td>&quot;4754701&quot;</td><td>&quot;4775&quot;</td><td>&quot;12071717&quot;</td><td>&quot;6072&quot;</td><td>&quot;8047681&quot;</td><td>&quot;80476815001991…</td><td>&quot;5001991&quot;</td><td>null</td><td>&quot;5001462&quot;</td><td>&quot;14908&quot;</td><td>&quot;5208707&quot;</td><td>null</td><td>&quot;AVENIDA ANHANG…</td><td>&quot;CENTRO&quot;</td><td>&quot;CO9&quot;</td><td>&quot;MT-Tipo1&quot;</td><td>&quot;ABC&quot;</td><td>&quot;MT&quot;</td><td>&quot;49&quot;</td><td>&quot;A4&quot;</td><td>&quot;AT&quot;</td><td>&quot;01/04/1977&quot;</td><td>&quot;225&quot;</td><td>&quot;0&quot;</td><td>&quot;UB&quot;</td><td>&quot;RD_INTERLIG&quot;</td><td>&quot;45&quot;</td><td>&quot;46.29&quot;</td><td>&quot;46.86&quot;</td><td>&quot;45&quot;</td><td>&quot;45&quot;</td><td>&quot;46.13&quot;</td><td>&quot;45&quot;</td><td>&hellip;</td><td>&quot;11430.35&quot;</td><td>&quot;8442.95&quot;</td><td>&quot;6679.45&quot;</td><td>&quot;5531.16&quot;</td><td>&quot;7634.29&quot;</td><td>&quot;8268.31&quot;</td><td>&quot;7788.32&quot;</td><td>&quot;7998.78&quot;</td><td>&quot;0&quot;</td><td>&quot;0&quot;</td><td>&quot;0&quot;</td><td>&quot;0&quot;</td><td>&quot;0.93&quot;</td><td>&quot;0&quot;</td><td>&quot;0.06&quot;</td><td>&quot;0.08&quot;</td><td>&quot;0.46&quot;</td><td>&quot;0.17&quot;</td><td>&quot;0&quot;</td><td>&quot;0.05&quot;</td><td>&quot;0&quot;</td><td>&quot;0&quot;</td><td>&quot;0&quot;</td><td>&quot;0&quot;</td><td>&quot;1&quot;</td><td>&quot;0&quot;</td><td>&quot;1&quot;</td><td>&quot;1&quot;</td><td>&quot;2&quot;</td><td>&quot;2&quot;</td><td>&quot;0&quot;</td><td>&quot;1&quot;</td><td>&quot;0&quot;</td><td>&quot;0&quot;</td><td>&quot;31DEC2022:00:0…</td><td>&quot;-49.2538891&quot;</td><td>&quot;-16.67477259&quot;</td></tr></tbody></table></div>"
      ],
      "text/plain": [
       "shape: (5, 84)\n",
       "┌────────────┬────────────┬────────────┬──────────┬───┬───────┬────────────┬───────────┬───────────┐\n",
       "│ cnpj       ┆ endereco   ┆ matriz_fil ┆ CEP      ┆ … ┆ DESCR ┆ DATA_BASE  ┆ POINT_X   ┆ POINT_Y   │\n",
       "│ ---        ┆ ---        ┆ ial        ┆ ---      ┆   ┆ ---   ┆ ---        ┆ ---       ┆ ---       │\n",
       "│ str        ┆ str        ┆ ---        ┆ str      ┆   ┆ str   ┆ str        ┆ str       ┆ str       │\n",
       "│            ┆            ┆ str        ┆          ┆   ┆       ┆            ┆           ┆           │\n",
       "╞════════════╪════════════╪════════════╪══════════╪═══╪═══════╪════════════╪═══════════╪═══════════╡\n",
       "│ 5814288600 ┆ RUA XAVIER ┆ 1          ┆ 11015090 ┆ … ┆ null  ┆ 31DEC2022: ┆ -46.32441 ┆ -23.95030 │\n",
       "│ 0198       ┆ PINHEIRO   ┆            ┆          ┆   ┆       ┆ 00:00:00.0 ┆ 144       ┆ 581       │\n",
       "│            ┆ 253        ┆            ┆          ┆   ┆       ┆ 000000     ┆           ┆           │\n",
       "│ 8799080000 ┆ AVENIDA    ┆ 1          ┆ 94910003 ┆ … ┆ null  ┆ 31DEC2022: ┆ -51.09229 ┆ -29.94752 │\n",
       "│ 0185       ┆ FLORES DA  ┆            ┆          ┆   ┆       ┆ 00:00:00.0 ┆ 469       ┆ 995       │\n",
       "│            ┆ CUNHA 2251 ┆            ┆          ┆   ┆       ┆ 000000     ┆           ┆           │\n",
       "│ 0739729000 ┆ AVENIDA    ┆ 1          ┆ 09111340 ┆ … ┆ null  ┆ 31DEC2022: ┆ -46.69939 ┆ -23.65417 │\n",
       "│ 0106       ┆ GIOVANNI   ┆            ┆          ┆   ┆       ┆ 00:00:00.0 ┆ 982       ┆ 898       │\n",
       "│            ┆ BATISTA    ┆            ┆          ┆   ┆       ┆ 000000     ┆           ┆           │\n",
       "│            ┆ PIRELLI…   ┆            ┆          ┆   ┆       ┆            ┆           ┆           │\n",
       "│ 0739729000 ┆ AVENIDA    ┆ 1          ┆ 09111340 ┆ … ┆ null  ┆ 31DEC2022: ┆ -46.62060 ┆ -23.56290 │\n",
       "│ 0106       ┆ GIOVANNI   ┆            ┆          ┆   ┆       ┆ 00:00:00.0 ┆ 261       ┆ 749       │\n",
       "│            ┆ BATISTA    ┆            ┆          ┆   ┆       ┆ 000000     ┆           ┆           │\n",
       "│            ┆ PIRELLI…   ┆            ┆          ┆   ┆       ┆            ┆           ┆           │\n",
       "│ 3730713900 ┆ AVENIDA    ┆ 2          ┆ 74043011 ┆ … ┆ 0     ┆ 31DEC2022: ┆ -49.25388 ┆ -16.67477 │\n",
       "│ 0435       ┆ ANHANGUERA ┆            ┆          ┆   ┆       ┆ 00:00:00.0 ┆ 91        ┆ 259       │\n",
       "│            ┆ 4775       ┆            ┆          ┆   ┆       ┆ 000000     ┆           ┆           │\n",
       "└────────────┴────────────┴────────────┴──────────┴───┴───────┴────────────┴───────────┴───────────┘"
      ]
     },
     "execution_count": 44,
     "metadata": {},
     "output_type": "execute_result"
    }
   ],
   "source": [
    "df_final = df_cnpj.join(df_bdgd, on=['CEP', 'CNAE'], how='inner')\n",
    "df_final.head().collect()"
   ]
  },
  {
   "cell_type": "code",
   "execution_count": 53,
   "metadata": {},
   "outputs": [],
   "source": [
    "df_filter = df_final.filter(pl.col('LGRD').str.contains(pl.col('numero'), literal=True))"
   ]
  },
  {
   "cell_type": "code",
   "execution_count": 54,
   "metadata": {},
   "outputs": [
    {
     "data": {
      "text/html": [
       "<div><style>\n",
       ".dataframe > thead > tr,\n",
       ".dataframe > tbody > tr {\n",
       "  text-align: right;\n",
       "  white-space: pre-wrap;\n",
       "}\n",
       "</style>\n",
       "<small>shape: (5, 84)</small><table border=\"1\" class=\"dataframe\"><thead><tr><th>cnpj</th><th>endereco</th><th>matriz_filial</th><th>CEP</th><th>CNAE</th><th>numero</th><th>COD_ID</th><th>DIST</th><th>PN_CON</th><th>PAC</th><th>CTMT</th><th>UNI_TR_AT</th><th>SUB</th><th>CONJ</th><th>MUN</th><th>CEG_GD</th><th>LGRD</th><th>BRR</th><th>CLAS_SUB</th><th>TIP_CC</th><th>FAS_CON</th><th>GRU_TEN</th><th>TEN_FORN</th><th>GRU_TAR</th><th>SIT_ATIV</th><th>DAT_CON</th><th>CAR_INST</th><th>LIV</th><th>ARE_LOC</th><th>TIP_SIST</th><th>DEM_CONT</th><th>DEM_01</th><th>DEM_02</th><th>DEM_03</th><th>DEM_04</th><th>DEM_05</th><th>DEM_06</th><th>&hellip;</th><th>ENE_05</th><th>ENE_06</th><th>ENE_07</th><th>ENE_08</th><th>ENE_09</th><th>ENE_10</th><th>ENE_11</th><th>ENE_12</th><th>DIC_01</th><th>DIC_02</th><th>DIC_03</th><th>DIC_04</th><th>DIC_05</th><th>DIC_06</th><th>DIC_07</th><th>DIC_08</th><th>DIC_09</th><th>DIC_10</th><th>DIC_11</th><th>DIC_12</th><th>FIC_01</th><th>FIC_02</th><th>FIC_03</th><th>FIC_04</th><th>FIC_05</th><th>FIC_06</th><th>FIC_07</th><th>FIC_08</th><th>FIC_09</th><th>FIC_10</th><th>FIC_11</th><th>FIC_12</th><th>SEMRED</th><th>DESCR</th><th>DATA_BASE</th><th>POINT_X</th><th>POINT_Y</th></tr><tr><td>str</td><td>str</td><td>str</td><td>str</td><td>str</td><td>str</td><td>str</td><td>str</td><td>str</td><td>str</td><td>str</td><td>str</td><td>str</td><td>str</td><td>str</td><td>str</td><td>str</td><td>str</td><td>str</td><td>str</td><td>str</td><td>str</td><td>str</td><td>str</td><td>str</td><td>str</td><td>str</td><td>str</td><td>str</td><td>str</td><td>str</td><td>str</td><td>str</td><td>str</td><td>str</td><td>str</td><td>str</td><td>&hellip;</td><td>str</td><td>str</td><td>str</td><td>str</td><td>str</td><td>str</td><td>str</td><td>str</td><td>str</td><td>str</td><td>str</td><td>str</td><td>str</td><td>str</td><td>str</td><td>str</td><td>str</td><td>str</td><td>str</td><td>str</td><td>str</td><td>str</td><td>str</td><td>str</td><td>str</td><td>str</td><td>str</td><td>str</td><td>str</td><td>str</td><td>str</td><td>str</td><td>str</td><td>str</td><td>str</td><td>str</td><td>str</td></tr></thead><tbody><tr><td>&quot;58142886000198…</td><td>&quot;RUA XAVIER PIN…</td><td>&quot;1&quot;</td><td>&quot;11015090&quot;</td><td>&quot;4721102&quot;</td><td>&quot;253&quot;</td><td>&quot;2036308753&quot;</td><td>&quot;2937&quot;</td><td>&quot;1106146&quot;</td><td>&quot;148392427&quot;</td><td>&quot;VNO32&quot;</td><td>&quot;VNO-ETR104&quot;</td><td>&quot;VNO&quot;</td><td>&quot;13557&quot;</td><td>&quot;3548500&quot;</td><td>null</td><td>&quot;R XAVIER PINHE…</td><td>&quot;VL MATIAS&quot;</td><td>&quot;CO1&quot;</td><td>&quot;MT-Tipo1&quot;</td><td>&quot;ABCN&quot;</td><td>&quot;MT&quot;</td><td>&quot;49&quot;</td><td>&quot;A4&quot;</td><td>&quot;AT&quot;</td><td>&quot;14/10/2015&quot;</td><td>&quot;100000&quot;</td><td>&quot;0&quot;</td><td>&quot;UB&quot;</td><td>&quot;RD_INTERLIG&quot;</td><td>&quot;80&quot;</td><td>&quot;88&quot;</td><td>&quot;81&quot;</td><td>&quot;82&quot;</td><td>&quot;74&quot;</td><td>&quot;90&quot;</td><td>&quot;82&quot;</td><td>&hellip;</td><td>&quot;20559&quot;</td><td>&quot;18684&quot;</td><td>&quot;20227&quot;</td><td>&quot;19008&quot;</td><td>&quot;18068&quot;</td><td>&quot;22513&quot;</td><td>&quot;22654&quot;</td><td>&quot;21726&quot;</td><td>&quot;0&quot;</td><td>&quot;0&quot;</td><td>&quot;0&quot;</td><td>&quot;0&quot;</td><td>&quot;5.473&quot;</td><td>&quot;0&quot;</td><td>&quot;0&quot;</td><td>&quot;0&quot;</td><td>&quot;0&quot;</td><td>&quot;0&quot;</td><td>&quot;0&quot;</td><td>&quot;0&quot;</td><td>&quot;0&quot;</td><td>&quot;0&quot;</td><td>&quot;0&quot;</td><td>&quot;0&quot;</td><td>&quot;1&quot;</td><td>&quot;0&quot;</td><td>&quot;0&quot;</td><td>&quot;0&quot;</td><td>&quot;0&quot;</td><td>&quot;0&quot;</td><td>&quot;0&quot;</td><td>&quot;0&quot;</td><td>&quot;1&quot;</td><td>null</td><td>&quot;31DEC2022:00:0…</td><td>&quot;-46.32441144&quot;</td><td>&quot;-23.95030581&quot;</td></tr><tr><td>&quot;01525323000676…</td><td>&quot;AVENIDA SAO PA…</td><td>&quot;2&quot;</td><td>&quot;87013313&quot;</td><td>&quot;5611203&quot;</td><td>&quot;743&quot;</td><td>&quot;86276697&quot;</td><td>&quot;2866&quot;</td><td>&quot;841516052&quot;</td><td>&quot;841182159&quot;</td><td>&quot;851480018&quot;</td><td>&quot;580391645&quot;</td><td>&quot;72760&quot;</td><td>&quot;15933&quot;</td><td>&quot;4115200&quot;</td><td>null</td><td>&quot;SAO PAULO 743&quot;</td><td>&quot;ZONA 09 ARMAZE…</td><td>&quot;CO9&quot;</td><td>&quot;MT-Tipo02&quot;</td><td>&quot;ABC&quot;</td><td>&quot;MT&quot;</td><td>&quot;49&quot;</td><td>&quot;A4&quot;</td><td>&quot;AT&quot;</td><td>&quot;03/09/2010&quot;</td><td>&quot;82&quot;</td><td>&quot;1&quot;</td><td>&quot;UB&quot;</td><td>&quot;RD_INTERLIG&quot;</td><td>&quot;82&quot;</td><td>&quot;76&quot;</td><td>&quot;74&quot;</td><td>&quot;74&quot;</td><td>&quot;72&quot;</td><td>&quot;66&quot;</td><td>&quot;66&quot;</td><td>&hellip;</td><td>&quot;0&quot;</td><td>&quot;0&quot;</td><td>&quot;0&quot;</td><td>&quot;23720&quot;</td><td>&quot;21653.911&quot;</td><td>&quot;24819.096&quot;</td><td>&quot;23058.306&quot;</td><td>&quot;24674.872&quot;</td><td>&quot;0&quot;</td><td>&quot;0&quot;</td><td>&quot;0&quot;</td><td>&quot;0&quot;</td><td>&quot;0&quot;</td><td>&quot;0&quot;</td><td>&quot;0&quot;</td><td>&quot;0&quot;</td><td>&quot;0&quot;</td><td>&quot;0&quot;</td><td>&quot;0&quot;</td><td>&quot;0&quot;</td><td>&quot;0&quot;</td><td>&quot;0&quot;</td><td>&quot;0&quot;</td><td>&quot;0&quot;</td><td>&quot;0&quot;</td><td>&quot;0&quot;</td><td>&quot;0&quot;</td><td>&quot;0&quot;</td><td>&quot;0&quot;</td><td>&quot;0&quot;</td><td>&quot;0&quot;</td><td>&quot;0&quot;</td><td>&quot;0&quot;</td><td>null</td><td>&quot;31DEC2022:00:0…</td><td>&quot;-51.93320932&quot;</td><td>&quot;-23.41905605&quot;</td></tr><tr><td>&quot;01525323000676…</td><td>&quot;AVENIDA SAO PA…</td><td>&quot;2&quot;</td><td>&quot;87013313&quot;</td><td>&quot;5611203&quot;</td><td>&quot;743&quot;</td><td>&quot;DP_86276697&quot;</td><td>&quot;2866&quot;</td><td>&quot;841516052&quot;</td><td>&quot;841182159&quot;</td><td>&quot;851480018&quot;</td><td>&quot;580391645&quot;</td><td>&quot;72760&quot;</td><td>&quot;15933&quot;</td><td>&quot;4115200&quot;</td><td>null</td><td>&quot;SAO PAULO 743&quot;</td><td>&quot;ZONA 09 ARMAZE…</td><td>&quot;CO9&quot;</td><td>&quot;MT-Tipo02&quot;</td><td>&quot;ABC&quot;</td><td>&quot;MT&quot;</td><td>&quot;49&quot;</td><td>&quot;A4&quot;</td><td>&quot;DS&quot;</td><td>&quot;03/09/2010&quot;</td><td>&quot;82&quot;</td><td>&quot;0&quot;</td><td>&quot;UB&quot;</td><td>&quot;RD_INTERLIG&quot;</td><td>&quot;82&quot;</td><td>&quot;76&quot;</td><td>&quot;74&quot;</td><td>&quot;74&quot;</td><td>&quot;72&quot;</td><td>&quot;66&quot;</td><td>&quot;66&quot;</td><td>&hellip;</td><td>&quot;24819.096&quot;</td><td>&quot;24819.096&quot;</td><td>&quot;24819.096&quot;</td><td>&quot;0&quot;</td><td>&quot;0&quot;</td><td>&quot;0&quot;</td><td>&quot;0&quot;</td><td>&quot;0&quot;</td><td>&quot;0&quot;</td><td>&quot;0&quot;</td><td>&quot;0&quot;</td><td>&quot;0&quot;</td><td>&quot;0&quot;</td><td>&quot;0&quot;</td><td>&quot;0&quot;</td><td>&quot;0&quot;</td><td>&quot;0&quot;</td><td>&quot;0&quot;</td><td>&quot;0&quot;</td><td>&quot;0&quot;</td><td>&quot;0&quot;</td><td>&quot;0&quot;</td><td>&quot;0&quot;</td><td>&quot;0&quot;</td><td>&quot;0&quot;</td><td>&quot;0&quot;</td><td>&quot;0&quot;</td><td>&quot;0&quot;</td><td>&quot;0&quot;</td><td>&quot;0&quot;</td><td>&quot;0&quot;</td><td>&quot;0&quot;</td><td>&quot;0&quot;</td><td>null</td><td>&quot;31DEC2022:00:0…</td><td>&quot;-51.93320932&quot;</td><td>&quot;-23.41905605&quot;</td></tr><tr><td>&quot;01525323000676…</td><td>&quot;AVENIDA SAO PA…</td><td>&quot;2&quot;</td><td>&quot;87013313&quot;</td><td>&quot;5611203&quot;</td><td>&quot;743&quot;</td><td>&quot;104471816&quot;</td><td>&quot;2866&quot;</td><td>&quot;584761614&quot;</td><td>&quot;584761895&quot;</td><td>&quot;851480018&quot;</td><td>&quot;580391645&quot;</td><td>&quot;72760&quot;</td><td>&quot;15933&quot;</td><td>&quot;4115200&quot;</td><td>null</td><td>&quot;SAO PAULO 743&quot;</td><td>&quot;ZONA 09 ARMAZE…</td><td>&quot;CO9&quot;</td><td>&quot;MT-Tipo06&quot;</td><td>&quot;ABC&quot;</td><td>&quot;MT&quot;</td><td>&quot;49&quot;</td><td>&quot;A4&quot;</td><td>&quot;AT&quot;</td><td>&quot;17/12/2018&quot;</td><td>&quot;90&quot;</td><td>&quot;1&quot;</td><td>&quot;UB&quot;</td><td>&quot;RD_INTERLIG&quot;</td><td>&quot;90&quot;</td><td>&quot;72&quot;</td><td>&quot;79&quot;</td><td>&quot;71&quot;</td><td>&quot;81&quot;</td><td>&quot;64&quot;</td><td>&quot;74&quot;</td><td>&hellip;</td><td>&quot;18774.567&quot;</td><td>&quot;18405.387&quot;</td><td>&quot;20376.594&quot;</td><td>&quot;20600&quot;</td><td>&quot;20182.806&quot;</td><td>&quot;24251.787&quot;</td><td>&quot;23319.009&quot;</td><td>&quot;26757.108&quot;</td><td>&quot;0&quot;</td><td>&quot;0&quot;</td><td>&quot;0&quot;</td><td>&quot;0&quot;</td><td>&quot;0&quot;</td><td>&quot;0&quot;</td><td>&quot;0&quot;</td><td>&quot;0&quot;</td><td>&quot;0&quot;</td><td>&quot;0&quot;</td><td>&quot;0&quot;</td><td>&quot;0&quot;</td><td>&quot;0&quot;</td><td>&quot;0&quot;</td><td>&quot;0&quot;</td><td>&quot;0&quot;</td><td>&quot;0&quot;</td><td>&quot;0&quot;</td><td>&quot;0&quot;</td><td>&quot;0&quot;</td><td>&quot;0&quot;</td><td>&quot;0&quot;</td><td>&quot;0&quot;</td><td>&quot;0&quot;</td><td>&quot;0&quot;</td><td>null</td><td>&quot;31DEC2022:00:0…</td><td>&quot;-51.93251142&quot;</td><td>&quot;-23.42002666&quot;</td></tr><tr><td>&quot;92487545000192…</td><td>&quot;RUA ROCA SALES…</td><td>&quot;1&quot;</td><td>&quot;95670000&quot;</td><td>&quot;3101200&quot;</td><td>&quot;50&quot;</td><td>&quot;3081216867&quot;</td><td>&quot;396&quot;</td><td>&quot;829102701&quot;</td><td>&quot;1896463&quot;</td><td>&quot;CNL14&quot;</td><td>&quot;CNL-ETR201&quot;</td><td>&quot;CNL&quot;</td><td>&quot;16529&quot;</td><td>&quot;4309100&quot;</td><td>null</td><td>&quot;R JOSIAS MARTI…</td><td>&quot;VL MOURA&quot;</td><td>&quot;IN&quot;</td><td>&quot;MT-Tipo9&quot;</td><td>&quot;ABCN&quot;</td><td>&quot;MT&quot;</td><td>&quot;49&quot;</td><td>&quot;B3&quot;</td><td>&quot;AT&quot;</td><td>&quot;28/06/2014&quot;</td><td>&quot;38&quot;</td><td>&quot;0&quot;</td><td>&quot;UB&quot;</td><td>&quot;RD_INTERLIG&quot;</td><td>&quot;0&quot;</td><td>&quot;0&quot;</td><td>&quot;0&quot;</td><td>&quot;0&quot;</td><td>&quot;0&quot;</td><td>&quot;0&quot;</td><td>&quot;0&quot;</td><td>&hellip;</td><td>&quot;1113&quot;</td><td>&quot;1213&quot;</td><td>&quot;1290&quot;</td><td>&quot;1207&quot;</td><td>&quot;1013.94&quot;</td><td>&quot;1145.335&quot;</td><td>&quot;1023.975&quot;</td><td>&quot;937&quot;</td><td>&quot;0&quot;</td><td>&quot;0&quot;</td><td>&quot;0&quot;</td><td>&quot;0&quot;</td><td>&quot;0&quot;</td><td>&quot;0&quot;</td><td>&quot;0&quot;</td><td>&quot;0&quot;</td><td>&quot;0&quot;</td><td>&quot;0&quot;</td><td>&quot;0&quot;</td><td>&quot;0.0558&quot;</td><td>&quot;0&quot;</td><td>&quot;0&quot;</td><td>&quot;0&quot;</td><td>&quot;0&quot;</td><td>&quot;0&quot;</td><td>&quot;0&quot;</td><td>&quot;0&quot;</td><td>&quot;0&quot;</td><td>&quot;0&quot;</td><td>&quot;0&quot;</td><td>&quot;0&quot;</td><td>&quot;1&quot;</td><td>&quot;1&quot;</td><td>null</td><td>&quot;31DEC2022:00:0…</td><td>&quot;-50.88083964&quot;</td><td>&quot;-29.35798218&quot;</td></tr></tbody></table></div>"
      ],
      "text/plain": [
       "shape: (5, 84)\n",
       "┌────────────┬────────────┬────────────┬──────────┬───┬───────┬────────────┬───────────┬───────────┐\n",
       "│ cnpj       ┆ endereco   ┆ matriz_fil ┆ CEP      ┆ … ┆ DESCR ┆ DATA_BASE  ┆ POINT_X   ┆ POINT_Y   │\n",
       "│ ---        ┆ ---        ┆ ial        ┆ ---      ┆   ┆ ---   ┆ ---        ┆ ---       ┆ ---       │\n",
       "│ str        ┆ str        ┆ ---        ┆ str      ┆   ┆ str   ┆ str        ┆ str       ┆ str       │\n",
       "│            ┆            ┆ str        ┆          ┆   ┆       ┆            ┆           ┆           │\n",
       "╞════════════╪════════════╪════════════╪══════════╪═══╪═══════╪════════════╪═══════════╪═══════════╡\n",
       "│ 5814288600 ┆ RUA XAVIER ┆ 1          ┆ 11015090 ┆ … ┆ null  ┆ 31DEC2022: ┆ -46.32441 ┆ -23.95030 │\n",
       "│ 0198       ┆ PINHEIRO   ┆            ┆          ┆   ┆       ┆ 00:00:00.0 ┆ 144       ┆ 581       │\n",
       "│            ┆ 253        ┆            ┆          ┆   ┆       ┆ 000000     ┆           ┆           │\n",
       "│ 0152532300 ┆ AVENIDA    ┆ 2          ┆ 87013313 ┆ … ┆ null  ┆ 31DEC2022: ┆ -51.93320 ┆ -23.41905 │\n",
       "│ 0676       ┆ SAO PAULO  ┆            ┆          ┆   ┆       ┆ 00:00:00.0 ┆ 932       ┆ 605       │\n",
       "│            ┆ 743        ┆            ┆          ┆   ┆       ┆ 000000     ┆           ┆           │\n",
       "│ 0152532300 ┆ AVENIDA    ┆ 2          ┆ 87013313 ┆ … ┆ null  ┆ 31DEC2022: ┆ -51.93320 ┆ -23.41905 │\n",
       "│ 0676       ┆ SAO PAULO  ┆            ┆          ┆   ┆       ┆ 00:00:00.0 ┆ 932       ┆ 605       │\n",
       "│            ┆ 743        ┆            ┆          ┆   ┆       ┆ 000000     ┆           ┆           │\n",
       "│ 0152532300 ┆ AVENIDA    ┆ 2          ┆ 87013313 ┆ … ┆ null  ┆ 31DEC2022: ┆ -51.93251 ┆ -23.42002 │\n",
       "│ 0676       ┆ SAO PAULO  ┆            ┆          ┆   ┆       ┆ 00:00:00.0 ┆ 142       ┆ 666       │\n",
       "│            ┆ 743        ┆            ┆          ┆   ┆       ┆ 000000     ┆           ┆           │\n",
       "│ 9248754500 ┆ RUA ROCA   ┆ 1          ┆ 95670000 ┆ … ┆ null  ┆ 31DEC2022: ┆ -50.88083 ┆ -29.35798 │\n",
       "│ 0192       ┆ SALES 50   ┆            ┆          ┆   ┆       ┆ 00:00:00.0 ┆ 964       ┆ 218       │\n",
       "│            ┆            ┆            ┆          ┆   ┆       ┆ 000000     ┆           ┆           │\n",
       "└────────────┴────────────┴────────────┴──────────┴───┴───────┴────────────┴───────────┴───────────┘"
      ]
     },
     "execution_count": 54,
     "metadata": {},
     "output_type": "execute_result"
    }
   ],
   "source": [
    "df_filter.head().collect()"
   ]
  },
  {
   "cell_type": "code",
   "execution_count": 55,
   "metadata": {},
   "outputs": [],
   "source": [
    "df_filter.sink_csv('./data/energia_com_cnpj.csv')"
   ]
  }
 ],
 "metadata": {
  "kernelspec": {
   "display_name": "Python 3",
   "language": "python",
   "name": "python3"
  },
  "language_info": {
   "codemirror_mode": {
    "name": "ipython",
    "version": 3
   },
   "file_extension": ".py",
   "mimetype": "text/x-python",
   "name": "python",
   "nbconvert_exporter": "python",
   "pygments_lexer": "ipython3",
   "version": "3.10.11"
  }
 },
 "nbformat": 4,
 "nbformat_minor": 2
}
