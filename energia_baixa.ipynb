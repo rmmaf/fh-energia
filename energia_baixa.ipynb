{
 "cells": [
  {
   "cell_type": "code",
   "execution_count": 1,
   "metadata": {},
   "outputs": [
    {
     "data": {
      "text/plain": [
       "'c:\\\\Users\\\\digom\\\\Documents\\\\GitHub\\\\fh-energia'"
      ]
     },
     "execution_count": 1,
     "metadata": {},
     "output_type": "execute_result"
    }
   ],
   "source": [
    "import polars as pl\n",
    "import os\n",
    "import pandas as pd\n",
    "os.getcwd()\n"
   ]
  },
  {
   "cell_type": "code",
   "execution_count": 2,
   "metadata": {},
   "outputs": [],
   "source": [
    "df_cnpj = pl.scan_parquet(\"./data/CNPJ_parquet/estabelecimentos.parquet\")\n"
   ]
  },
  {
   "cell_type": "code",
   "execution_count": 3,
   "metadata": {},
   "outputs": [
    {
     "data": {
      "text/html": [
       "<div><style>\n",
       ".dataframe > thead > tr,\n",
       ".dataframe > tbody > tr {\n",
       "  text-align: right;\n",
       "  white-space: pre-wrap;\n",
       "}\n",
       "</style>\n",
       "<small>shape: (10, 14)</small><table border=\"1\" class=\"dataframe\"><thead><tr><th>cnpj</th><th>endereco</th><th>matriz_filial</th><th>CEP</th><th>CNAE</th><th>cnae_2_split</th><th>numero</th><th>situacao_cadastral</th><th>nome_fantasia</th><th>UF</th><th>municipio</th><th>CNPJ_DAT_CON</th><th>CNPJ_DAT_CON_M</th><th>CNPJ_DAT_CON_Y</th></tr><tr><td>str</td><td>str</td><td>str</td><td>str</td><td>str</td><td>str</td><td>str</td><td>str</td><td>str</td><td>str</td><td>str</td><td>date</td><td>i8</td><td>i32</td></tr></thead><tbody><tr><td>&quot;92562537000163&quot;</td><td>&quot;RUA DAS AMOREIRAS 148&quot;</td><td>&quot;1&quot;</td><td>&quot;92410030&quot;</td><td>&quot;4619200&quot;</td><td>null</td><td>&quot;148&quot;</td><td>&quot;Ativa&quot;</td><td>null</td><td>&quot;RS&quot;</td><td>&quot;8589&quot;</td><td>1989-01-24</td><td>1</td><td>1989</td></tr><tr><td>&quot;92562552000101&quot;</td><td>&quot;RUA DUMONCEL FILHO 847&quot;</td><td>&quot;1&quot;</td><td>&quot;98200000&quot;</td><td>&quot;4924800&quot;</td><td>&quot;5620102&quot;</td><td>&quot;847&quot;</td><td>&quot;Ativa&quot;</td><td>null</td><td>&quot;RS&quot;</td><td>&quot;8701&quot;</td><td>1989-01-24</td><td>1</td><td>1989</td></tr><tr><td>&quot;92562669000195&quot;</td><td>&quot;RUA ESPIR RIVALDO 119&quot;</td><td>&quot;1&quot;</td><td>&quot;91450270&quot;</td><td>&quot;4923002&quot;</td><td>null</td><td>&quot;119&quot;</td><td>&quot;Ativa&quot;</td><td>null</td><td>&quot;RS&quot;</td><td>&quot;8801&quot;</td><td>1989-01-23</td><td>1</td><td>1989</td></tr><tr><td>&quot;04949456000153&quot;</td><td>&quot;RUA TIRADENTES 1933&quot;</td><td>&quot;1&quot;</td><td>&quot;09781220&quot;</td><td>&quot;6311900&quot;</td><td>null</td><td>&quot;1933&quot;</td><td>&quot;Inapta&quot;</td><td>null</td><td>&quot;SP&quot;</td><td>&quot;7075&quot;</td><td>2002-03-04</td><td>3</td><td>2002</td></tr><tr><td>&quot;04949463000155&quot;</td><td>&quot;AVENIDA ANTONIO OMETTO, 1070&quot;</td><td>&quot;1&quot;</td><td>&quot;13480074&quot;</td><td>&quot;4789004&quot;</td><td>&quot;9609208&quot;</td><td>&quot;1070&quot;</td><td>&quot;Inapta&quot;</td><td>&quot;BOUTICAO PET SHOP&quot;</td><td>&quot;SP&quot;</td><td>&quot;6639&quot;</td><td>2002-03-08</td><td>3</td><td>2002</td></tr><tr><td>&quot;04949463000155&quot;</td><td>&quot;AVENIDA ANTONIO OMETTO, 1070&quot;</td><td>&quot;1&quot;</td><td>&quot;13480074&quot;</td><td>&quot;4789004&quot;</td><td>&quot;4771704&quot;</td><td>&quot;1070&quot;</td><td>&quot;Inapta&quot;</td><td>&quot;BOUTICAO PET SHOP&quot;</td><td>&quot;SP&quot;</td><td>&quot;6639&quot;</td><td>2002-03-08</td><td>3</td><td>2002</td></tr><tr><td>&quot;04949470000157&quot;</td><td>&quot;AVENIDA FLORIANO PEIXOTO 1576&quot;</td><td>&quot;1&quot;</td><td>&quot;58100001&quot;</td><td>&quot;8512100&quot;</td><td>null</td><td>&quot;1576&quot;</td><td>&quot;Inapta&quot;</td><td>&quot;AQUARELA DO SABER&quot;</td><td>&quot;PB&quot;</td><td>&quot;1981&quot;</td><td>2002-02-28</td><td>2</td><td>2002</td></tr><tr><td>&quot;04949478000113&quot;</td><td>&quot;RUA JOAO VICENTE 101&quot;</td><td>&quot;1&quot;</td><td>&quot;91560160&quot;</td><td>&quot;8011101&quot;</td><td>&quot;8020001&quot;</td><td>&quot;101&quot;</td><td>&quot;Inapta&quot;</td><td>null</td><td>&quot;RS&quot;</td><td>&quot;8801&quot;</td><td>2002-03-13</td><td>3</td><td>2002</td></tr><tr><td>&quot;92562925000144&quot;</td><td>&quot;RUA PROFESSOR BASIL SEFTON 16&quot;</td><td>&quot;1&quot;</td><td>&quot;91120620&quot;</td><td>&quot;5611203&quot;</td><td>null</td><td>&quot;16&quot;</td><td>&quot;Inapta&quot;</td><td>&quot;ARMAZEM WAGNER&quot;</td><td>&quot;RS&quot;</td><td>&quot;8801&quot;</td><td>1989-01-24</td><td>1</td><td>1989</td></tr><tr><td>&quot;03308234000199&quot;</td><td>&quot;AVENIDA TANCREDO NEVES 274&quot;</td><td>&quot;1&quot;</td><td>&quot;41820020&quot;</td><td>&quot;8599699&quot;</td><td>null</td><td>&quot;274&quot;</td><td>&quot;Ativa&quot;</td><td>null</td><td>&quot;BA&quot;</td><td>&quot;3849&quot;</td><td>1999-07-26</td><td>7</td><td>1999</td></tr></tbody></table></div>"
      ],
      "text/plain": [
       "shape: (10, 14)\n",
       "┌───────────┬───────────┬───────────┬──────────┬───┬───────────┬───────────┬───────────┬───────────┐\n",
       "│ cnpj      ┆ endereco  ┆ matriz_fi ┆ CEP      ┆ … ┆ municipio ┆ CNPJ_DAT_ ┆ CNPJ_DAT_ ┆ CNPJ_DAT_ │\n",
       "│ ---       ┆ ---       ┆ lial      ┆ ---      ┆   ┆ ---       ┆ CON       ┆ CON_M     ┆ CON_Y     │\n",
       "│ str       ┆ str       ┆ ---       ┆ str      ┆   ┆ str       ┆ ---       ┆ ---       ┆ ---       │\n",
       "│           ┆           ┆ str       ┆          ┆   ┆           ┆ date      ┆ i8        ┆ i32       │\n",
       "╞═══════════╪═══════════╪═══════════╪══════════╪═══╪═══════════╪═══════════╪═══════════╪═══════════╡\n",
       "│ 925625370 ┆ RUA DAS   ┆ 1         ┆ 92410030 ┆ … ┆ 8589      ┆ 1989-01-2 ┆ 1         ┆ 1989      │\n",
       "│ 00163     ┆ AMOREIRAS ┆           ┆          ┆   ┆           ┆ 4         ┆           ┆           │\n",
       "│           ┆ 148       ┆           ┆          ┆   ┆           ┆           ┆           ┆           │\n",
       "│ 925625520 ┆ RUA       ┆ 1         ┆ 98200000 ┆ … ┆ 8701      ┆ 1989-01-2 ┆ 1         ┆ 1989      │\n",
       "│ 00101     ┆ DUMONCEL  ┆           ┆          ┆   ┆           ┆ 4         ┆           ┆           │\n",
       "│           ┆ FILHO 847 ┆           ┆          ┆   ┆           ┆           ┆           ┆           │\n",
       "│ 925626690 ┆ RUA ESPIR ┆ 1         ┆ 91450270 ┆ … ┆ 8801      ┆ 1989-01-2 ┆ 1         ┆ 1989      │\n",
       "│ 00195     ┆ RIVALDO   ┆           ┆          ┆   ┆           ┆ 3         ┆           ┆           │\n",
       "│           ┆ 119       ┆           ┆          ┆   ┆           ┆           ┆           ┆           │\n",
       "│ 049494560 ┆ RUA TIRAD ┆ 1         ┆ 09781220 ┆ … ┆ 7075      ┆ 2002-03-0 ┆ 3         ┆ 2002      │\n",
       "│ 00153     ┆ ENTES     ┆           ┆          ┆   ┆           ┆ 4         ┆           ┆           │\n",
       "│           ┆ 1933      ┆           ┆          ┆   ┆           ┆           ┆           ┆           │\n",
       "│ 049494630 ┆ AVENIDA   ┆ 1         ┆ 13480074 ┆ … ┆ 6639      ┆ 2002-03-0 ┆ 3         ┆ 2002      │\n",
       "│ 00155     ┆ ANTONIO   ┆           ┆          ┆   ┆           ┆ 8         ┆           ┆           │\n",
       "│           ┆ OMETTO,   ┆           ┆          ┆   ┆           ┆           ┆           ┆           │\n",
       "│           ┆ 1070      ┆           ┆          ┆   ┆           ┆           ┆           ┆           │\n",
       "│ 049494630 ┆ AVENIDA   ┆ 1         ┆ 13480074 ┆ … ┆ 6639      ┆ 2002-03-0 ┆ 3         ┆ 2002      │\n",
       "│ 00155     ┆ ANTONIO   ┆           ┆          ┆   ┆           ┆ 8         ┆           ┆           │\n",
       "│           ┆ OMETTO,   ┆           ┆          ┆   ┆           ┆           ┆           ┆           │\n",
       "│           ┆ 1070      ┆           ┆          ┆   ┆           ┆           ┆           ┆           │\n",
       "│ 049494700 ┆ AVENIDA   ┆ 1         ┆ 58100001 ┆ … ┆ 1981      ┆ 2002-02-2 ┆ 2         ┆ 2002      │\n",
       "│ 00157     ┆ FLORIANO  ┆           ┆          ┆   ┆           ┆ 8         ┆           ┆           │\n",
       "│           ┆ PEIXOTO   ┆           ┆          ┆   ┆           ┆           ┆           ┆           │\n",
       "│           ┆ 1576      ┆           ┆          ┆   ┆           ┆           ┆           ┆           │\n",
       "│ 049494780 ┆ RUA JOAO  ┆ 1         ┆ 91560160 ┆ … ┆ 8801      ┆ 2002-03-1 ┆ 3         ┆ 2002      │\n",
       "│ 00113     ┆ VICENTE   ┆           ┆          ┆   ┆           ┆ 3         ┆           ┆           │\n",
       "│           ┆ 101       ┆           ┆          ┆   ┆           ┆           ┆           ┆           │\n",
       "│ 925629250 ┆ RUA       ┆ 1         ┆ 91120620 ┆ … ┆ 8801      ┆ 1989-01-2 ┆ 1         ┆ 1989      │\n",
       "│ 00144     ┆ PROFESSOR ┆           ┆          ┆   ┆           ┆ 4         ┆           ┆           │\n",
       "│           ┆ BASIL     ┆           ┆          ┆   ┆           ┆           ┆           ┆           │\n",
       "│           ┆ SEFTON 16 ┆           ┆          ┆   ┆           ┆           ┆           ┆           │\n",
       "│ 033082340 ┆ AVENIDA   ┆ 1         ┆ 41820020 ┆ … ┆ 3849      ┆ 1999-07-2 ┆ 7         ┆ 1999      │\n",
       "│ 00199     ┆ TANCREDO  ┆           ┆          ┆   ┆           ┆ 6         ┆           ┆           │\n",
       "│           ┆ NEVES 274 ┆           ┆          ┆   ┆           ┆           ┆           ┆           │\n",
       "└───────────┴───────────┴───────────┴──────────┴───┴───────────┴───────────┴───────────┴───────────┘"
      ]
     },
     "execution_count": 3,
     "metadata": {},
     "output_type": "execute_result"
    }
   ],
   "source": [
    "df_cnpj.head(10).collect()"
   ]
  },
  {
   "cell_type": "code",
   "execution_count": 4,
   "metadata": {},
   "outputs": [],
   "source": [
    "df_bdgd = pl.scan_parquet('data/bdgd/bt_parquet/UCBT_PJ.parquet')\n",
    "df_bdgd = df_bdgd.with_columns(pl.col('CEP').str.replace('\\.', '').str.replace('-', '').alias('CEP'),\n",
    "                               pl.col('CNAE').str.replace('-', '').str.replace('/', '').alias('CNAE'),\n",
    "                               pl.col('DAT_CON').str.to_date('%d/%m/%Y', strict=False).alias('DAT_CON'),)\\\n",
    "                    .with_columns(\n",
    "                               pl.col('DAT_CON').dt.month().alias('DAT_CON_M'),\n",
    "                              pl.col('DAT_CON').dt.year().alias('DAT_CON_Y'))\\\n",
    "                    .filter(pl.col('LIV') == '0')"
   ]
  },
  {
   "cell_type": "code",
   "execution_count": 5,
   "metadata": {},
   "outputs": [
    {
     "data": {
      "text/html": [
       "<div><style>\n",
       ".dataframe > thead > tr,\n",
       ".dataframe > tbody > tr {\n",
       "  text-align: right;\n",
       "  white-space: pre-wrap;\n",
       "}\n",
       "</style>\n",
       "<small>shape: (10, 72)</small><table border=\"1\" class=\"dataframe\"><thead><tr><th>COD_ID_ENCR</th><th>DIST</th><th>PAC</th><th>RAMAL</th><th>PN_CON</th><th>UNI_TR_MT</th><th>CTMT</th><th>UNI_TR_AT</th><th>SUB</th><th>CONJ</th><th>MUN</th><th>CEG_GD</th><th>LGRD</th><th>BRR</th><th>CEP</th><th>CLAS_SUB</th><th>CNAE</th><th>TIP_CC</th><th>FAS_CON</th><th>GRU_TEN</th><th>TEN_FORN</th><th>GRU_TAR</th><th>SIT_ATIV</th><th>DAT_CON</th><th>CAR_INST</th><th>LIV</th><th>ARE_LOC</th><th>TIP_SIST</th><th>ENE_01</th><th>ENE_02</th><th>ENE_03</th><th>ENE_04</th><th>ENE_05</th><th>ENE_06</th><th>ENE_07</th><th>ENE_08</th><th>ENE_09</th><th>ENE_10</th><th>ENE_11</th><th>ENE_12</th><th>DIC_01</th><th>DIC_02</th><th>DIC_03</th><th>DIC_04</th><th>DIC_05</th><th>DIC_06</th><th>DIC_07</th><th>DIC_08</th><th>DIC_09</th><th>DIC_10</th><th>DIC_11</th><th>DIC_12</th><th>FIC_01</th><th>FIC_02</th><th>FIC_03</th><th>FIC_04</th><th>FIC_05</th><th>FIC_06</th><th>FIC_07</th><th>FIC_08</th><th>FIC_09</th><th>FIC_10</th><th>FIC_11</th><th>FIC_12</th><th>SEMRED</th><th>DESCR</th><th>DATA_BASE</th><th>POINT_X</th><th>POINT_Y</th><th>OBJECTID</th><th>DAT_CON_M</th><th>DAT_CON_Y</th></tr><tr><td>str</td><td>str</td><td>str</td><td>str</td><td>str</td><td>str</td><td>str</td><td>str</td><td>str</td><td>str</td><td>str</td><td>str</td><td>str</td><td>str</td><td>str</td><td>str</td><td>str</td><td>str</td><td>str</td><td>str</td><td>str</td><td>str</td><td>str</td><td>date</td><td>str</td><td>str</td><td>str</td><td>str</td><td>str</td><td>str</td><td>str</td><td>str</td><td>str</td><td>str</td><td>str</td><td>str</td><td>str</td><td>str</td><td>str</td><td>str</td><td>str</td><td>str</td><td>str</td><td>str</td><td>str</td><td>str</td><td>str</td><td>str</td><td>str</td><td>str</td><td>str</td><td>str</td><td>str</td><td>str</td><td>str</td><td>str</td><td>str</td><td>str</td><td>str</td><td>str</td><td>str</td><td>str</td><td>str</td><td>str</td><td>str</td><td>str</td><td>str</td><td>str</td><td>str</td><td>str</td><td>i8</td><td>i32</td></tr></thead><tbody><tr><td>&quot;7E88FC379E56D60072F11D6FD6E437…</td><td>&quot;5697&quot;</td><td>&quot;BT-4110060&quot;</td><td>&quot;10688376&quot;</td><td>&quot;1652835&quot;</td><td>&quot;7387324&quot;</td><td>&quot;CQS01&quot;</td><td>&quot;SE-0003743&quot;</td><td>&quot;CQS&quot;</td><td>&quot;16799&quot;</td><td>&quot;4205407&quot;</td><td>null</td><td>&quot;JOSE CANDIDO DA SILVA&quot;</td><td>&quot;BALNEARIO - FNS&quot;</td><td>&quot;88075250&quot;</td><td>&quot;CO4&quot;</td><td>&quot;6822600&quot;</td><td>&quot;COM-Tipo4&quot;</td><td>&quot;ABCN&quot;</td><td>&quot;BT&quot;</td><td>&quot;10&quot;</td><td>&quot;B3&quot;</td><td>&quot;AT&quot;</td><td>1951-01-01</td><td>&quot;8&quot;</td><td>&quot;0&quot;</td><td>&quot;UB&quot;</td><td>&quot;RD_INTERLIG&quot;</td><td>&quot;586&quot;</td><td>&quot;483.928&quot;</td><td>&quot;485&quot;</td><td>&quot;261.33&quot;</td><td>&quot;235.104&quot;</td><td>&quot;231.11&quot;</td><td>&quot;224.808&quot;</td><td>&quot;243.78&quot;</td><td>&quot;228.69&quot;</td><td>&quot;215.04&quot;</td><td>&quot;222.756&quot;</td><td>&quot;245.769&quot;</td><td>&quot;0.86&quot;</td><td>&quot;0&quot;</td><td>&quot;4.09&quot;</td><td>&quot;0&quot;</td><td>&quot;0&quot;</td><td>&quot;0&quot;</td><td>&quot;0&quot;</td><td>&quot;0&quot;</td><td>&quot;0&quot;</td><td>&quot;0&quot;</td><td>&quot;0&quot;</td><td>&quot;0.46&quot;</td><td>&quot;1&quot;</td><td>&quot;0&quot;</td><td>&quot;2&quot;</td><td>&quot;0&quot;</td><td>&quot;0&quot;</td><td>&quot;0&quot;</td><td>&quot;0&quot;</td><td>&quot;0&quot;</td><td>&quot;0&quot;</td><td>&quot;0&quot;</td><td>&quot;0&quot;</td><td>&quot;1&quot;</td><td>&quot;0&quot;</td><td>&quot;NR_CONTA_CNS_GENESIS: 11420958…</td><td>&quot;31DEC2022:00:00:00.0000000&quot;</td><td>&quot;-48.58087632&quot;</td><td>&quot;-27.58391097&quot;</td><td>&quot;323465154&quot;</td><td>1</td><td>1951</td></tr><tr><td>&quot;D6DE41F7F03911F6CE8CB03CAC268F…</td><td>&quot;5697&quot;</td><td>&quot;BT-3936043&quot;</td><td>&quot;10775729&quot;</td><td>&quot;1556596&quot;</td><td>&quot;7386689&quot;</td><td>&quot;CQS01&quot;</td><td>&quot;SE-0003743&quot;</td><td>&quot;CQS&quot;</td><td>&quot;16799&quot;</td><td>&quot;4205407&quot;</td><td>null</td><td>&quot;ARACI VAZ CALLADO&quot;</td><td>&quot;ESTREITO - FNS&quot;</td><td>&quot;88070750&quot;</td><td>&quot;CO3&quot;</td><td>&quot;6010100&quot;</td><td>&quot;COM-Tipo4&quot;</td><td>&quot;ABCN&quot;</td><td>&quot;BT&quot;</td><td>&quot;10&quot;</td><td>&quot;B3&quot;</td><td>&quot;AT&quot;</td><td>1996-05-28</td><td>&quot;19&quot;</td><td>&quot;0&quot;</td><td>&quot;UB&quot;</td><td>&quot;RD_INTERLIG&quot;</td><td>&quot;2239&quot;</td><td>&quot;1984.876&quot;</td><td>&quot;2347&quot;</td><td>&quot;2088.78&quot;</td><td>&quot;1899.68&quot;</td><td>&quot;1926.235&quot;</td><td>&quot;1758.735&quot;</td><td>&quot;1939.02&quot;</td><td>&quot;1675.485&quot;</td><td>&quot;1918.976&quot;</td><td>&quot;2014.574&quot;</td><td>&quot;1899.784&quot;</td><td>&quot;0&quot;</td><td>&quot;2.27&quot;</td><td>&quot;0&quot;</td><td>&quot;0&quot;</td><td>&quot;0&quot;</td><td>&quot;0&quot;</td><td>&quot;0&quot;</td><td>&quot;0&quot;</td><td>&quot;0&quot;</td><td>&quot;0&quot;</td><td>&quot;0&quot;</td><td>&quot;0.46&quot;</td><td>&quot;0&quot;</td><td>&quot;1&quot;</td><td>&quot;0&quot;</td><td>&quot;0&quot;</td><td>&quot;0&quot;</td><td>&quot;0&quot;</td><td>&quot;0&quot;</td><td>&quot;0&quot;</td><td>&quot;0&quot;</td><td>&quot;0&quot;</td><td>&quot;0&quot;</td><td>&quot;1&quot;</td><td>&quot;0&quot;</td><td>&quot;NR_CONTA_CNS_GENESIS: 20341599…</td><td>&quot;31DEC2022:00:00:00.0000000&quot;</td><td>&quot;-48.58087649&quot;</td><td>&quot;-27.58477495&quot;</td><td>&quot;323465159&quot;</td><td>5</td><td>1996</td></tr><tr><td>&quot;E2710B359179B373F555958E2D2208…</td><td>&quot;5697&quot;</td><td>&quot;BT-4409434&quot;</td><td>&quot;10849473&quot;</td><td>&quot;1562923&quot;</td><td>&quot;7394545&quot;</td><td>&quot;CQS01&quot;</td><td>&quot;SE-0003743&quot;</td><td>&quot;CQS&quot;</td><td>&quot;16799&quot;</td><td>&quot;4205407&quot;</td><td>null</td><td>&quot;ARACI VAZ CALLADO&quot;</td><td>&quot;ESTREITO - FNS&quot;</td><td>&quot;88070750&quot;</td><td>&quot;CO1&quot;</td><td>&quot;4614100&quot;</td><td>&quot;COM-Tipo4&quot;</td><td>&quot;AN&quot;</td><td>&quot;BT&quot;</td><td>&quot;10&quot;</td><td>&quot;B3&quot;</td><td>&quot;AT&quot;</td><td>2009-06-02</td><td>&quot;11&quot;</td><td>&quot;0&quot;</td><td>&quot;UB&quot;</td><td>&quot;RD_INTERLIG&quot;</td><td>&quot;153&quot;</td><td>&quot;91.58&quot;</td><td>&quot;586&quot;</td><td>&quot;444.54&quot;</td><td>&quot;369.024&quot;</td><td>&quot;331.385&quot;</td><td>&quot;339.15&quot;</td><td>&quot;346.8&quot;</td><td>&quot;292.95&quot;</td><td>&quot;302.08&quot;</td><td>&quot;360.513&quot;</td><td>&quot;561.017&quot;</td><td>&quot;0.86&quot;</td><td>&quot;0&quot;</td><td>&quot;4.09&quot;</td><td>&quot;0&quot;</td><td>&quot;0&quot;</td><td>&quot;0&quot;</td><td>&quot;0&quot;</td><td>&quot;0&quot;</td><td>&quot;0&quot;</td><td>&quot;0&quot;</td><td>&quot;0&quot;</td><td>&quot;0.46&quot;</td><td>&quot;1&quot;</td><td>&quot;0&quot;</td><td>&quot;2&quot;</td><td>&quot;0&quot;</td><td>&quot;0&quot;</td><td>&quot;0&quot;</td><td>&quot;0&quot;</td><td>&quot;0&quot;</td><td>&quot;0&quot;</td><td>&quot;0&quot;</td><td>&quot;0&quot;</td><td>&quot;1&quot;</td><td>&quot;0&quot;</td><td>&quot;NR_CONTA_CNS_GENESIS: 42284947…</td><td>&quot;31DEC2022:00:00:00.0000000&quot;</td><td>&quot;-48.5797256&quot;</td><td>&quot;-27.58463551&quot;</td><td>&quot;323465163&quot;</td><td>6</td><td>2009</td></tr><tr><td>&quot;25383F056334148977C59022F82DE1…</td><td>&quot;5697&quot;</td><td>&quot;BT-4242642&quot;</td><td>&quot;11168847&quot;</td><td>&quot;1556597&quot;</td><td>&quot;7387008&quot;</td><td>&quot;CQS02&quot;</td><td>&quot;SE-0003745&quot;</td><td>&quot;CQS&quot;</td><td>&quot;16799&quot;</td><td>&quot;4205407&quot;</td><td>null</td><td>&quot;ARACI VAZ CALLADO&quot;</td><td>&quot;ESTREITO - FNS&quot;</td><td>&quot;88070750&quot;</td><td>&quot;CO4&quot;</td><td>&quot;6399200&quot;</td><td>&quot;COM-Tipo6&quot;</td><td>&quot;ABCN&quot;</td><td>&quot;BT&quot;</td><td>&quot;10&quot;</td><td>&quot;B3&quot;</td><td>&quot;AT&quot;</td><td>2015-11-25</td><td>&quot;8&quot;</td><td>&quot;0&quot;</td><td>&quot;UB&quot;</td><td>&quot;RD_INTERLIG&quot;</td><td>&quot;2678&quot;</td><td>&quot;2550.744&quot;</td><td>&quot;2574&quot;</td><td>&quot;2023.68&quot;</td><td>&quot;1478.08&quot;</td><td>&quot;1461.15&quot;</td><td>&quot;1407.957&quot;</td><td>&quot;1440.24&quot;</td><td>&quot;1459.08&quot;</td><td>&quot;1554.432&quot;</td><td>&quot;1645.268&quot;</td><td>&quot;2404.803&quot;</td><td>&quot;0.31&quot;</td><td>&quot;2.25&quot;</td><td>&quot;0.8&quot;</td><td>&quot;0&quot;</td><td>&quot;0&quot;</td><td>&quot;0&quot;</td><td>&quot;0&quot;</td><td>&quot;0&quot;</td><td>&quot;0&quot;</td><td>&quot;0&quot;</td><td>&quot;0&quot;</td><td>&quot;0&quot;</td><td>&quot;1&quot;</td><td>&quot;1&quot;</td><td>&quot;1&quot;</td><td>&quot;0&quot;</td><td>&quot;0&quot;</td><td>&quot;0&quot;</td><td>&quot;0&quot;</td><td>&quot;0&quot;</td><td>&quot;0&quot;</td><td>&quot;0&quot;</td><td>&quot;0&quot;</td><td>&quot;0&quot;</td><td>&quot;0&quot;</td><td>&quot;NR_CONTA_CNS_GENESIS: 49959168…</td><td>&quot;31DEC2022:00:00:00.0000000&quot;</td><td>&quot;-48.58097461&quot;</td><td>&quot;-27.58504303&quot;</td><td>&quot;323465170&quot;</td><td>11</td><td>2015</td></tr><tr><td>&quot;92384F76EC24B8A6D18B7B40345C0D…</td><td>&quot;5697&quot;</td><td>&quot;BT-4409434&quot;</td><td>&quot;10849473&quot;</td><td>&quot;1562923&quot;</td><td>&quot;7394545&quot;</td><td>&quot;CQS01&quot;</td><td>&quot;SE-0003743&quot;</td><td>&quot;CQS&quot;</td><td>&quot;16799&quot;</td><td>&quot;4205407&quot;</td><td>null</td><td>&quot;ARACI VAZ CALLADO&quot;</td><td>&quot;ESTREITO - FNS&quot;</td><td>&quot;88070750&quot;</td><td>&quot;CO4&quot;</td><td>&quot;6399200&quot;</td><td>&quot;COM-Tipo5&quot;</td><td>&quot;BN&quot;</td><td>&quot;BT&quot;</td><td>&quot;10&quot;</td><td>&quot;B3&quot;</td><td>&quot;AT&quot;</td><td>2008-09-11</td><td>&quot;8&quot;</td><td>&quot;0&quot;</td><td>&quot;UB&quot;</td><td>&quot;RD_INTERLIG&quot;</td><td>&quot;121&quot;</td><td>&quot;116.644&quot;</td><td>&quot;137&quot;</td><td>&quot;106.02&quot;</td><td>&quot;109.12&quot;</td><td>&quot;143.25&quot;</td><td>&quot;139.536&quot;</td><td>&quot;161.16&quot;</td><td>&quot;160.65&quot;</td><td>&quot;119.808&quot;</td><td>&quot;113.332&quot;</td><td>&quot;148.291&quot;</td><td>&quot;0.86&quot;</td><td>&quot;0&quot;</td><td>&quot;4.09&quot;</td><td>&quot;0&quot;</td><td>&quot;0&quot;</td><td>&quot;0&quot;</td><td>&quot;0&quot;</td><td>&quot;0&quot;</td><td>&quot;0&quot;</td><td>&quot;0&quot;</td><td>&quot;0&quot;</td><td>&quot;0.46&quot;</td><td>&quot;1&quot;</td><td>&quot;0&quot;</td><td>&quot;2&quot;</td><td>&quot;0&quot;</td><td>&quot;0&quot;</td><td>&quot;0&quot;</td><td>&quot;0&quot;</td><td>&quot;0&quot;</td><td>&quot;0&quot;</td><td>&quot;0&quot;</td><td>&quot;0&quot;</td><td>&quot;1&quot;</td><td>&quot;0&quot;</td><td>&quot;NR_CONTA_CNS_GENESIS: 41539917…</td><td>&quot;31DEC2022:00:00:00.0000000&quot;</td><td>&quot;-48.5797256&quot;</td><td>&quot;-27.58463551&quot;</td><td>&quot;323465183&quot;</td><td>9</td><td>2008</td></tr><tr><td>&quot;E4B7CA02758F56DF9D7CC6E4FD8DAC…</td><td>&quot;5697&quot;</td><td>&quot;BT-3936043&quot;</td><td>&quot;10775729&quot;</td><td>&quot;1556596&quot;</td><td>&quot;7386689&quot;</td><td>&quot;CQS01&quot;</td><td>&quot;SE-0003743&quot;</td><td>&quot;CQS&quot;</td><td>&quot;16799&quot;</td><td>&quot;4205407&quot;</td><td>null</td><td>&quot;ARACI VAZ CALLADO&quot;</td><td>&quot;ESTREITO - FNS&quot;</td><td>&quot;88070750&quot;</td><td>&quot;CO4&quot;</td><td>&quot;8112500&quot;</td><td>&quot;COM-Tipo6&quot;</td><td>&quot;ABCN&quot;</td><td>&quot;BT&quot;</td><td>&quot;10&quot;</td><td>&quot;B3&quot;</td><td>&quot;AT&quot;</td><td>1994-03-02</td><td>&quot;8&quot;</td><td>&quot;0&quot;</td><td>&quot;UB&quot;</td><td>&quot;RD_INTERLIG&quot;</td><td>&quot;400&quot;</td><td>&quot;375.96&quot;</td><td>&quot;440&quot;</td><td>&quot;399.9&quot;</td><td>&quot;416.64&quot;</td><td>&quot;439.3&quot;</td><td>&quot;426.36&quot;</td><td>&quot;438.6&quot;</td><td>&quot;406.35&quot;</td><td>&quot;440.32&quot;</td><td>&quot;468.96&quot;</td><td>&quot;425.17&quot;</td><td>&quot;0&quot;</td><td>&quot;2.27&quot;</td><td>&quot;0&quot;</td><td>&quot;0&quot;</td><td>&quot;0&quot;</td><td>&quot;0&quot;</td><td>&quot;0&quot;</td><td>&quot;0&quot;</td><td>&quot;0&quot;</td><td>&quot;0&quot;</td><td>&quot;0&quot;</td><td>&quot;0.46&quot;</td><td>&quot;0&quot;</td><td>&quot;1&quot;</td><td>&quot;0&quot;</td><td>&quot;0&quot;</td><td>&quot;0&quot;</td><td>&quot;0&quot;</td><td>&quot;0&quot;</td><td>&quot;0&quot;</td><td>&quot;0&quot;</td><td>&quot;0&quot;</td><td>&quot;0&quot;</td><td>&quot;1&quot;</td><td>&quot;0&quot;</td><td>&quot;NR_CONTA_CNS_GENESIS: 18459795…</td><td>&quot;31DEC2022:00:00:00.0000000&quot;</td><td>&quot;-48.58087649&quot;</td><td>&quot;-27.58477495&quot;</td><td>&quot;323465184&quot;</td><td>3</td><td>1994</td></tr><tr><td>&quot;7B3ABB6AEF69DD492F11DFB150AB9B…</td><td>&quot;5697&quot;</td><td>&quot;BT-4581173&quot;</td><td>&quot;10694458&quot;</td><td>&quot;1578405&quot;</td><td>&quot;7387324&quot;</td><td>&quot;CQS01&quot;</td><td>&quot;SE-0003743&quot;</td><td>&quot;CQS&quot;</td><td>&quot;16799&quot;</td><td>&quot;4205407&quot;</td><td>null</td><td>&quot;JOSE CANDIDO DA SILVA&quot;</td><td>&quot;BALNEARIO - FNS&quot;</td><td>&quot;88075250&quot;</td><td>&quot;CO4&quot;</td><td>&quot;8112500&quot;</td><td>&quot;COM-Tipo5&quot;</td><td>&quot;ABCN&quot;</td><td>&quot;BT&quot;</td><td>&quot;10&quot;</td><td>&quot;B3&quot;</td><td>&quot;AT&quot;</td><td>1992-10-21</td><td>&quot;8&quot;</td><td>&quot;0&quot;</td><td>&quot;UB&quot;</td><td>&quot;RD_INTERLIG&quot;</td><td>&quot;400&quot;</td><td>&quot;347.04&quot;</td><td>&quot;460&quot;</td><td>&quot;399.9&quot;</td><td>&quot;376.96&quot;</td><td>&quot;362.9&quot;</td><td>&quot;319.77&quot;</td><td>&quot;1407.6&quot;</td><td>&quot;359.1&quot;</td><td>&quot;368.64&quot;</td><td>&quot;361.49&quot;</td><td>&quot;383.69&quot;</td><td>&quot;0.86&quot;</td><td>&quot;0&quot;</td><td>&quot;4.09&quot;</td><td>&quot;0&quot;</td><td>&quot;0&quot;</td><td>&quot;0&quot;</td><td>&quot;0&quot;</td><td>&quot;0&quot;</td><td>&quot;0&quot;</td><td>&quot;0&quot;</td><td>&quot;0&quot;</td><td>&quot;0.46&quot;</td><td>&quot;1&quot;</td><td>&quot;0&quot;</td><td>&quot;2&quot;</td><td>&quot;0&quot;</td><td>&quot;0&quot;</td><td>&quot;0&quot;</td><td>&quot;0&quot;</td><td>&quot;0&quot;</td><td>&quot;0&quot;</td><td>&quot;0&quot;</td><td>&quot;0&quot;</td><td>&quot;1&quot;</td><td>&quot;0&quot;</td><td>&quot;NR_CONTA_CNS_GENESIS: 11434215…</td><td>&quot;31DEC2022:00:00:00.0000000&quot;</td><td>&quot;-48.58061188&quot;</td><td>&quot;-27.58285588&quot;</td><td>&quot;323465185&quot;</td><td>10</td><td>1992</td></tr><tr><td>&quot;AFC4972EC7E2295F4BF940745F714D…</td><td>&quot;5697&quot;</td><td>&quot;BT-4360014&quot;</td><td>&quot;11153451&quot;</td><td>&quot;1565972&quot;</td><td>&quot;7471210&quot;</td><td>&quot;CQS01&quot;</td><td>&quot;SE-0003743&quot;</td><td>&quot;CQS&quot;</td><td>&quot;16799&quot;</td><td>&quot;4205407&quot;</td><td>null</td><td>&quot;MAL HERMES&quot;</td><td>&quot;ESTREITO - FNS&quot;</td><td>&quot;88075160&quot;</td><td>&quot;CO4&quot;</td><td>&quot;8112500&quot;</td><td>&quot;COM-Tipo3&quot;</td><td>&quot;ABCN&quot;</td><td>&quot;BT&quot;</td><td>&quot;10&quot;</td><td>&quot;B3&quot;</td><td>&quot;AT&quot;</td><td>1951-01-01</td><td>&quot;22.08&quot;</td><td>&quot;0&quot;</td><td>&quot;UB&quot;</td><td>&quot;RD_INTERLIG&quot;</td><td>&quot;2426&quot;</td><td>&quot;2246.12&quot;</td><td>&quot;2224&quot;</td><td>&quot;2223.63&quot;</td><td>&quot;2073.28&quot;</td><td>&quot;2290.09&quot;</td><td>&quot;1878.891&quot;</td><td>&quot;2084.88&quot;</td><td>&quot;1979.775&quot;</td><td>&quot;2343.936&quot;</td><td>&quot;2045.838&quot;</td><td>&quot;2449.394&quot;</td><td>&quot;0&quot;</td><td>&quot;0&quot;</td><td>&quot;0&quot;</td><td>&quot;0&quot;</td><td>&quot;0&quot;</td><td>&quot;0&quot;</td><td>&quot;0&quot;</td><td>&quot;0&quot;</td><td>&quot;0&quot;</td><td>&quot;0&quot;</td><td>&quot;0&quot;</td><td>&quot;0.46&quot;</td><td>&quot;0&quot;</td><td>&quot;0&quot;</td><td>&quot;0&quot;</td><td>&quot;0&quot;</td><td>&quot;0&quot;</td><td>&quot;0&quot;</td><td>&quot;0&quot;</td><td>&quot;0&quot;</td><td>&quot;0&quot;</td><td>&quot;0&quot;</td><td>&quot;0&quot;</td><td>&quot;1&quot;</td><td>&quot;0&quot;</td><td>&quot;NR_CONTA_CNS_GENESIS: 8512345,…</td><td>&quot;31DEC2022:00:00:00.0000000&quot;</td><td>&quot;-48.5791704&quot;</td><td>&quot;-27.58478987&quot;</td><td>&quot;323465188&quot;</td><td>1</td><td>1951</td></tr><tr><td>&quot;AAC53E1039762EBB7208C6D7181581…</td><td>&quot;5697&quot;</td><td>&quot;BT-4522783&quot;</td><td>&quot;10711018&quot;</td><td>&quot;1562927&quot;</td><td>&quot;7386701&quot;</td><td>&quot;CQS01&quot;</td><td>&quot;SE-0003743&quot;</td><td>&quot;CQS&quot;</td><td>&quot;16799&quot;</td><td>&quot;4205407&quot;</td><td>null</td><td>&quot;ARACI VAZ CALLADO&quot;</td><td>&quot;ESTREITO - FNS&quot;</td><td>&quot;88070750&quot;</td><td>&quot;CO1&quot;</td><td>&quot;4634699&quot;</td><td>&quot;COM-Tipo3&quot;</td><td>&quot;ABCN&quot;</td><td>&quot;BT&quot;</td><td>&quot;10&quot;</td><td>&quot;B3&quot;</td><td>&quot;AT&quot;</td><td>1951-01-01</td><td>&quot;8&quot;</td><td>&quot;0&quot;</td><td>&quot;UB&quot;</td><td>&quot;RD_INTERLIG&quot;</td><td>&quot;368&quot;</td><td>&quot;435.728&quot;</td><td>&quot;362&quot;</td><td>&quot;376.65&quot;</td><td>&quot;297.6&quot;</td><td>&quot;296.05&quot;</td><td>&quot;245.157&quot;</td><td>&quot;252.96&quot;</td><td>&quot;231.525&quot;</td><td>&quot;262.144&quot;</td><td>&quot;281.376&quot;</td><td>&quot;406.504&quot;</td><td>&quot;0.86&quot;</td><td>&quot;0&quot;</td><td>&quot;4.09&quot;</td><td>&quot;0&quot;</td><td>&quot;0&quot;</td><td>&quot;0&quot;</td><td>&quot;1.78&quot;</td><td>&quot;0&quot;</td><td>&quot;0&quot;</td><td>&quot;0&quot;</td><td>&quot;0&quot;</td><td>&quot;0.46&quot;</td><td>&quot;1&quot;</td><td>&quot;0&quot;</td><td>&quot;2&quot;</td><td>&quot;0&quot;</td><td>&quot;0&quot;</td><td>&quot;0&quot;</td><td>&quot;1&quot;</td><td>&quot;0&quot;</td><td>&quot;0&quot;</td><td>&quot;0&quot;</td><td>&quot;0&quot;</td><td>&quot;1&quot;</td><td>&quot;0&quot;</td><td>&quot;NR_CONTA_CNS_GENESIS: 8512396,…</td><td>&quot;31DEC2022:00:00:00.0000000&quot;</td><td>&quot;-48.5791414&quot;</td><td>&quot;-27.58438602&quot;</td><td>&quot;323465189&quot;</td><td>1</td><td>1951</td></tr><tr><td>&quot;AA54D25A8F4A20D2A5E60FD76FC24A…</td><td>&quot;5697&quot;</td><td>&quot;BT-3936043&quot;</td><td>&quot;10775729&quot;</td><td>&quot;1556596&quot;</td><td>&quot;7386689&quot;</td><td>&quot;CQS01&quot;</td><td>&quot;SE-0003743&quot;</td><td>&quot;CQS&quot;</td><td>&quot;16799&quot;</td><td>&quot;4205407&quot;</td><td>null</td><td>&quot;ARACI VAZ CALLADO&quot;</td><td>&quot;ESTREITO - FNS&quot;</td><td>&quot;88070750&quot;</td><td>&quot;CO3&quot;</td><td>&quot;6010100&quot;</td><td>&quot;COM-Tipo3&quot;</td><td>&quot;AN&quot;</td><td>&quot;BT&quot;</td><td>&quot;10&quot;</td><td>&quot;B3&quot;</td><td>&quot;AT&quot;</td><td>2003-10-27</td><td>&quot;18&quot;</td><td>&quot;0&quot;</td><td>&quot;UB&quot;</td><td>&quot;RD_INTERLIG&quot;</td><td>&quot;1089&quot;</td><td>&quot;955.324&quot;</td><td>&quot;1126&quot;</td><td>&quot;1005.33&quot;</td><td>&quot;1000.928&quot;</td><td>&quot;1049.545&quot;</td><td>&quot;958.341&quot;</td><td>&quot;1044.48&quot;</td><td>&quot;1037.608&quot;</td><td>&quot;689.152&quot;</td><td>&quot;450.397&quot;</td><td>&quot;415.837&quot;</td><td>&quot;0&quot;</td><td>&quot;2.27&quot;</td><td>&quot;0&quot;</td><td>&quot;0&quot;</td><td>&quot;0&quot;</td><td>&quot;0&quot;</td><td>&quot;0&quot;</td><td>&quot;0&quot;</td><td>&quot;0&quot;</td><td>&quot;0&quot;</td><td>&quot;0&quot;</td><td>&quot;0.46&quot;</td><td>&quot;0&quot;</td><td>&quot;1&quot;</td><td>&quot;0&quot;</td><td>&quot;0&quot;</td><td>&quot;0&quot;</td><td>&quot;0&quot;</td><td>&quot;0&quot;</td><td>&quot;0&quot;</td><td>&quot;0&quot;</td><td>&quot;0&quot;</td><td>&quot;0&quot;</td><td>&quot;1&quot;</td><td>&quot;0&quot;</td><td>&quot;NR_CONTA_CNS_GENESIS: 28084757…</td><td>&quot;31DEC2022:00:00:00.0000000&quot;</td><td>&quot;-48.58087649&quot;</td><td>&quot;-27.58477495&quot;</td><td>&quot;323465192&quot;</td><td>10</td><td>2003</td></tr></tbody></table></div>"
      ],
      "text/plain": [
       "shape: (10, 72)\n",
       "┌─────────────┬──────┬────────────┬──────────┬───┬─────────────┬───────────┬───────────┬───────────┐\n",
       "│ COD_ID_ENCR ┆ DIST ┆ PAC        ┆ RAMAL    ┆ … ┆ POINT_Y     ┆ OBJECTID  ┆ DAT_CON_M ┆ DAT_CON_Y │\n",
       "│ ---         ┆ ---  ┆ ---        ┆ ---      ┆   ┆ ---         ┆ ---       ┆ ---       ┆ ---       │\n",
       "│ str         ┆ str  ┆ str        ┆ str      ┆   ┆ str         ┆ str       ┆ i8        ┆ i32       │\n",
       "╞═════════════╪══════╪════════════╪══════════╪═══╪═════════════╪═══════════╪═══════════╪═══════════╡\n",
       "│ 7E88FC379E5 ┆ 5697 ┆ BT-4110060 ┆ 10688376 ┆ … ┆ -27.5839109 ┆ 323465154 ┆ 1         ┆ 1951      │\n",
       "│ 6D60072F11D ┆      ┆            ┆          ┆   ┆ 7           ┆           ┆           ┆           │\n",
       "│ 6FD6E437…   ┆      ┆            ┆          ┆   ┆             ┆           ┆           ┆           │\n",
       "│ D6DE41F7F03 ┆ 5697 ┆ BT-3936043 ┆ 10775729 ┆ … ┆ -27.5847749 ┆ 323465159 ┆ 5         ┆ 1996      │\n",
       "│ 911F6CE8CB0 ┆      ┆            ┆          ┆   ┆ 5           ┆           ┆           ┆           │\n",
       "│ 3CAC268F…   ┆      ┆            ┆          ┆   ┆             ┆           ┆           ┆           │\n",
       "│ E2710B35917 ┆ 5697 ┆ BT-4409434 ┆ 10849473 ┆ … ┆ -27.5846355 ┆ 323465163 ┆ 6         ┆ 2009      │\n",
       "│ 9B373F55595 ┆      ┆            ┆          ┆   ┆ 1           ┆           ┆           ┆           │\n",
       "│ 8E2D2208…   ┆      ┆            ┆          ┆   ┆             ┆           ┆           ┆           │\n",
       "│ 25383F05633 ┆ 5697 ┆ BT-4242642 ┆ 11168847 ┆ … ┆ -27.5850430 ┆ 323465170 ┆ 11        ┆ 2015      │\n",
       "│ 4148977C590 ┆      ┆            ┆          ┆   ┆ 3           ┆           ┆           ┆           │\n",
       "│ 22F82DE1…   ┆      ┆            ┆          ┆   ┆             ┆           ┆           ┆           │\n",
       "│ 92384F76EC2 ┆ 5697 ┆ BT-4409434 ┆ 10849473 ┆ … ┆ -27.5846355 ┆ 323465183 ┆ 9         ┆ 2008      │\n",
       "│ 4B8A6D18B7B ┆      ┆            ┆          ┆   ┆ 1           ┆           ┆           ┆           │\n",
       "│ 40345C0D…   ┆      ┆            ┆          ┆   ┆             ┆           ┆           ┆           │\n",
       "│ E4B7CA02758 ┆ 5697 ┆ BT-3936043 ┆ 10775729 ┆ … ┆ -27.5847749 ┆ 323465184 ┆ 3         ┆ 1994      │\n",
       "│ F56DF9D7CC6 ┆      ┆            ┆          ┆   ┆ 5           ┆           ┆           ┆           │\n",
       "│ E4FD8DAC…   ┆      ┆            ┆          ┆   ┆             ┆           ┆           ┆           │\n",
       "│ 7B3ABB6AEF6 ┆ 5697 ┆ BT-4581173 ┆ 10694458 ┆ … ┆ -27.5828558 ┆ 323465185 ┆ 10        ┆ 1992      │\n",
       "│ 9DD492F11DF ┆      ┆            ┆          ┆   ┆ 8           ┆           ┆           ┆           │\n",
       "│ B150AB9B…   ┆      ┆            ┆          ┆   ┆             ┆           ┆           ┆           │\n",
       "│ AFC4972EC7E ┆ 5697 ┆ BT-4360014 ┆ 11153451 ┆ … ┆ -27.5847898 ┆ 323465188 ┆ 1         ┆ 1951      │\n",
       "│ 2295F4BF940 ┆      ┆            ┆          ┆   ┆ 7           ┆           ┆           ┆           │\n",
       "│ 745F714D…   ┆      ┆            ┆          ┆   ┆             ┆           ┆           ┆           │\n",
       "│ AAC53E10397 ┆ 5697 ┆ BT-4522783 ┆ 10711018 ┆ … ┆ -27.5843860 ┆ 323465189 ┆ 1         ┆ 1951      │\n",
       "│ 62EBB7208C6 ┆      ┆            ┆          ┆   ┆ 2           ┆           ┆           ┆           │\n",
       "│ D7181581…   ┆      ┆            ┆          ┆   ┆             ┆           ┆           ┆           │\n",
       "│ AA54D25A8F4 ┆ 5697 ┆ BT-3936043 ┆ 10775729 ┆ … ┆ -27.5847749 ┆ 323465192 ┆ 10        ┆ 2003      │\n",
       "│ A20D2A5E60F ┆      ┆            ┆          ┆   ┆ 5           ┆           ┆           ┆           │\n",
       "│ D76FC24A…   ┆      ┆            ┆          ┆   ┆             ┆           ┆           ┆           │\n",
       "└─────────────┴──────┴────────────┴──────────┴───┴─────────────┴───────────┴───────────┴───────────┘"
      ]
     },
     "execution_count": 5,
     "metadata": {},
     "output_type": "execute_result"
    }
   ],
   "source": [
    "df_bdgd.head(10).collect()"
   ]
  },
  {
   "cell_type": "code",
   "execution_count": 6,
   "metadata": {},
   "outputs": [],
   "source": [
    "cod_id_set = []\n",
    "one_cod_df_list = []\n",
    "cnpj_cols = ['cnpj', 'nome_fantasia', 'situacao_cadastral', 'UF', 'matriz_filial']"
   ]
  },
  {
   "cell_type": "markdown",
   "metadata": {},
   "source": [
    "# CEP e CNAE (filtrando o numero)"
   ]
  },
  {
   "cell_type": "code",
   "execution_count": null,
   "metadata": {},
   "outputs": [],
   "source": []
  },
  {
   "cell_type": "code",
   "execution_count": 7,
   "metadata": {},
   "outputs": [],
   "source": [
    "df_cnae_1 = df_cnpj.join(df_bdgd, on=['CEP', 'CNAE'], how='inner')\n",
    "df_cnae_2 = df_cnpj.join(df_bdgd, left_on=['CEP', 'cnae_2_split'], right_on=['CEP', 'CNAE'], how='inner')\n",
    "#concatenating the two dataframes\n",
    "df_final = pl.concat([df_cnae_1, df_cnae_2])\n",
    "df_filter = df_final.filter(pl.col('LGRD').str.contains(pl.col('numero'), literal=True))\n",
    "\n",
    "df_filter.sink_parquet('./data/bt_final/CEP_CNAE_NUM_FILTER.parquet', \n",
    "        compression=\"snappy\",\n",
    "        row_group_size=100_000 )\n",
    "#df_cep_cnae_num = df_filter.collect().to_pandas()\n",
    "#df_cep_cnae_num"
   ]
  },
  {
   "cell_type": "code",
   "execution_count": 15,
   "metadata": {},
   "outputs": [
    {
     "ename": "PanicException",
     "evalue": "called `Option::unwrap()` on a `None` value",
     "output_type": "error",
     "traceback": [
      "\u001b[1;31m---------------------------------------------------------------------------\u001b[0m",
      "\u001b[1;31mPanicException\u001b[0m                            Traceback (most recent call last)",
      "Cell \u001b[1;32mIn[15], line 1\u001b[0m\n\u001b[1;32m----> 1\u001b[0m dfp \u001b[38;5;241m=\u001b[39m \u001b[43mdf_filter\u001b[49m\u001b[38;5;241;43m.\u001b[39;49m\u001b[43mcollect\u001b[49m\u001b[43m(\u001b[49m\u001b[43mstreaming\u001b[49m\u001b[38;5;241;43m=\u001b[39;49m\u001b[38;5;28;43;01mTrue\u001b[39;49;00m\u001b[43m)\u001b[49m\u001b[38;5;241m.\u001b[39mto_pandas()\n",
      "File \u001b[1;32m~\\AppData\\Local\\Packages\\PythonSoftwareFoundation.Python.3.10_qbz5n2kfra8p0\\LocalCache\\local-packages\\Python310\\site-packages\\polars\\lazyframe\\frame.py:1942\u001b[0m, in \u001b[0;36mLazyFrame.collect\u001b[1;34m(self, type_coercion, predicate_pushdown, projection_pushdown, simplify_expression, slice_pushdown, comm_subplan_elim, comm_subexpr_elim, cluster_with_columns, no_optimization, streaming, background, _eager, **_kwargs)\u001b[0m\n\u001b[0;32m   1939\u001b[0m \u001b[38;5;66;03m# Only for testing purposes atm.\u001b[39;00m\n\u001b[0;32m   1940\u001b[0m callback \u001b[38;5;241m=\u001b[39m _kwargs\u001b[38;5;241m.\u001b[39mget(\u001b[38;5;124m\"\u001b[39m\u001b[38;5;124mpost_opt_callback\u001b[39m\u001b[38;5;124m\"\u001b[39m)\n\u001b[1;32m-> 1942\u001b[0m \u001b[38;5;28;01mreturn\u001b[39;00m wrap_df(\u001b[43mldf\u001b[49m\u001b[38;5;241;43m.\u001b[39;49m\u001b[43mcollect\u001b[49m\u001b[43m(\u001b[49m\u001b[43mcallback\u001b[49m\u001b[43m)\u001b[49m)\n",
      "\u001b[1;31mPanicException\u001b[0m: called `Option::unwrap()` on a `None` value"
     ]
    }
   ],
   "source": [
    "dfp = df_filter.collect(streaming=True).to_pandas()"
   ]
  },
  {
   "cell_type": "code",
   "execution_count": null,
   "metadata": {},
   "outputs": [],
   "source": [
    "cep_cnae_num_cod_id =  (df_cep_cnae_num.COD_ID.value_counts() == 1).loc[lambda x: x == True].index.tolist()\n",
    "cod_id_set = [*cod_id_set, *cep_cnae_num_cod_id]"
   ]
  },
  {
   "cell_type": "code",
   "execution_count": null,
   "metadata": {},
   "outputs": [],
   "source": [
    "one_cod_df_list.append(df_cep_cnae_num[df_cep_cnae_num.COD_ID.isin(cep_cnae_num_cod_id)][[*cnpj_cols, *cols_bdgd]])"
   ]
  },
  {
   "cell_type": "code",
   "execution_count": null,
   "metadata": {},
   "outputs": [],
   "source": [
    "len(set(cep_cnae_num_cod_id))"
   ]
  },
  {
   "cell_type": "markdown",
   "metadata": {},
   "source": [
    "# CEP e CNAE (sem filtrar numero)"
   ]
  },
  {
   "cell_type": "code",
   "execution_count": null,
   "metadata": {},
   "outputs": [],
   "source": [
    "df_cnae_1 = df_cnpj.join(df_bdgd, on=['CEP', 'CNAE'], how='inner')\n",
    "df_cnae_2 = df_cnpj.join(df_bdgd, left_on=['CEP', 'cnae_2_split'], right_on=['CEP', 'CNAE'], how='inner')\n",
    "#concatenating the two dataframes\n",
    "df_final = pl.concat([df_cnae_1, df_cnae_2])\n",
    "df_filter = df_final.unique(subset=['COD_ID', 'cnpj'])\n",
    "df_cep_cnae = df_filter.collect().to_pandas()\n",
    "df_cep_cnae"
   ]
  },
  {
   "cell_type": "code",
   "execution_count": null,
   "metadata": {},
   "outputs": [],
   "source": [
    "cep_cnae_cod_id = (df_cep_cnae.COD_ID.value_counts() == 1).loc[lambda x: x == True].index.tolist()\n",
    "cod_id_set = [*cod_id_set, *cep_cnae_cod_id]"
   ]
  },
  {
   "cell_type": "code",
   "execution_count": null,
   "metadata": {},
   "outputs": [],
   "source": [
    "one_cod_df_list.append(df_cep_cnae[df_cep_cnae.COD_ID.isin(cep_cnae_cod_id)][[*cnpj_cols, *cols_bdgd]])"
   ]
  },
  {
   "cell_type": "markdown",
   "metadata": {},
   "source": [
    "# CEP, CNAE e DAT_CON"
   ]
  },
  {
   "cell_type": "code",
   "execution_count": null,
   "metadata": {},
   "outputs": [],
   "source": [
    "df_cnae_1 = df_cnpj.join(df_bdgd, right_on=['CEP', 'CNAE', 'DAT_CON'], left_on=['CEP', 'CNAE', 'CNPJ_DAT_CON'], how='inner')\n",
    "df_cnae_2 = df_cnpj.join(df_bdgd, left_on=['CEP', 'cnae_2_split', 'CNPJ_DAT_CON'], right_on=['CEP', 'CNAE', 'DAT_CON'], how='inner')\n",
    "#concatenating the two dataframes\n",
    "df_final = pl.concat([df_cnae_1, df_cnae_2])\n",
    "df_filter = df_final.unique(subset=['COD_ID', 'cnpj'])\n",
    "df_filter.sink_csv('./data/estabelecimentos_cep_cnae_dat_con.csv')\n",
    "#df_cep_cnae_DAT = df_filter.collect().to_pandas()\n",
    "#df_cep_cnae_DAT"
   ]
  },
  {
   "cell_type": "code",
   "execution_count": null,
   "metadata": {},
   "outputs": [],
   "source": [
    "cep_cnae_dat_cod_id = (df_cep_cnae_DAT.COD_ID.value_counts() == 1).loc[lambda x: x == True].index.tolist()\n",
    "cod_id_set = [*cod_id_set, *cep_cnae_dat_cod_id]\n",
    "df_cep_cnae_DAT.rename(columns={'CNPJ_DAT_CON': 'DAT_CON'}, inplace=True)\n",
    "one_cod_df_list.append(df_cep_cnae_DAT[df_cep_cnae_DAT.COD_ID.isin(cep_cnae_dat_cod_id)][[*cnpj_cols, *cols_bdgd]])"
   ]
  },
  {
   "cell_type": "markdown",
   "metadata": {},
   "source": [
    "# CEP, CNAE e DAT_COM (apenas mes e ano)"
   ]
  },
  {
   "cell_type": "code",
   "execution_count": null,
   "metadata": {},
   "outputs": [],
   "source": [
    "df_cnae_1 = df_cnpj.join(df_bdgd, left_on=['CEP', 'CNAE', 'CNPJ_DAT_CON_M', 'CNPJ_DAT_CON_Y'], right_on=['CEP', 'CNAE', 'DAT_CON_M', 'DAT_CON_Y'], how='inner')\n",
    "df_cnae_2 = df_cnpj.join(df_bdgd, left_on=['CEP', 'cnae_2_split','CNPJ_DAT_CON_M', 'CNPJ_DAT_CON_Y'], right_on=['CEP', 'CNAE', 'DAT_CON_M', 'DAT_CON_Y'], how='inner')\n",
    "#concatenating the two dataframes\n",
    "df_final = pl.concat([df_cnae_1, df_cnae_2])\n",
    "df_filter = df_final.unique(subset=['COD_ID', 'cnpj'])\n",
    "df_cep_cnae_DAT_M = df_filter.collect().to_pandas()\n",
    "df_cep_cnae_DAT_M"
   ]
  },
  {
   "cell_type": "code",
   "execution_count": null,
   "metadata": {},
   "outputs": [],
   "source": [
    "cep_cnae_DAT_M_cod_id = (df_cep_cnae_DAT_M.COD_ID.value_counts() == 1).loc[lambda x: x == True].index.tolist()\n",
    "cod_id_set = [*cod_id_set, *cep_cnae_DAT_M_cod_id]\n",
    "df_cep_cnae_DAT_M.rename(columns={'CNPJ_DAT_CON_Y': 'DAT_CON_Y', 'CNPJ_DAT_CON_M': 'DAT_CON_M'}, inplace=True)\n",
    "one_cod_df_list.append(df_cep_cnae_DAT_M[df_cep_cnae_DAT_M.COD_ID.isin(cep_cnae_DAT_M_cod_id)][[*cnpj_cols, *cols_bdgd]])"
   ]
  },
  {
   "cell_type": "markdown",
   "metadata": {},
   "source": [
    "# CEP, CNAE e DAT_COM (apenas ano)"
   ]
  },
  {
   "cell_type": "code",
   "execution_count": null,
   "metadata": {},
   "outputs": [],
   "source": [
    "df_cnae_1 = df_cnpj.join(df_bdgd, left_on=['CEP', 'CNAE', 'CNPJ_DAT_CON_Y'], right_on=['CEP', 'CNAE', 'DAT_CON_Y'], how='inner')\n",
    "df_cnae_2 = df_cnpj.join(df_bdgd, left_on=['CEP', 'cnae_2_split', 'CNPJ_DAT_CON_Y'], right_on=['CEP', 'CNAE', 'DAT_CON_Y'], how='inner')\n",
    "#concatenating the two dataframes\n",
    "df_final = pl.concat([df_cnae_1, df_cnae_2])\n",
    "df_filter = df_final.unique(subset=['COD_ID', 'cnpj'])\n",
    "df_cep_cnae_DAT_Y = df_filter.collect().to_pandas()\n",
    "df_cep_cnae_DAT_Y"
   ]
  },
  {
   "cell_type": "code",
   "execution_count": null,
   "metadata": {},
   "outputs": [],
   "source": [
    "cep_cnae_DAT_Y_cod_id = (df_cep_cnae_DAT_Y.COD_ID.value_counts() == 1).loc[lambda x: x == True].index.tolist()\n",
    "cod_id_set = [*cod_id_set, *cep_cnae_DAT_Y_cod_id]\n",
    "df_cep_cnae_DAT_Y.rename(columns={'CNPJ_DAT_CON_Y': 'DAT_CON_Y'}, inplace=True)\n",
    "one_cod_df_list.append(df_cep_cnae_DAT_Y[df_cep_cnae_DAT_Y.COD_ID.isin(cep_cnae_DAT_Y_cod_id)][[*cnpj_cols, *cols_bdgd]])"
   ]
  },
  {
   "cell_type": "code",
   "execution_count": null,
   "metadata": {},
   "outputs": [],
   "source": [
    "len(set(cod_id_set))"
   ]
  },
  {
   "cell_type": "code",
   "execution_count": null,
   "metadata": {},
   "outputs": [],
   "source": [
    "new_col_id = cep_cnae_dat_cod_id\n",
    "new_dat_m = [x for x in cep_cnae_DAT_M_cod_id if x not in new_col_id]\n",
    "new_col_id = [*new_col_id, *new_dat_m]\n",
    "new_dat_y = [x for x in cep_cnae_DAT_Y_cod_id if x not in new_col_id]\n",
    "new_col_id = [*new_col_id, *new_dat_y]\n",
    "new_cep_cnae_num = [x for x in cep_cnae_num_cod_id if x not in new_col_id]\n",
    "new_col_id = [*new_col_id, *new_cep_cnae_num]\n",
    "new_cep_cnae = [x for x in cep_cnae_cod_id if x not in new_col_id]\n",
    "new_col_id = [*new_col_id, *new_cep_cnae]\n",
    "len(new_col_id)\n"
   ]
  },
  {
   "cell_type": "code",
   "execution_count": null,
   "metadata": {},
   "outputs": [],
   "source": [
    "len(cep_cnae_cod_id)"
   ]
  },
  {
   "cell_type": "code",
   "execution_count": null,
   "metadata": {},
   "outputs": [],
   "source": [
    "df_concat = pd.concat([df_cep_cnae_DAT[df_cep_cnae_DAT.COD_ID.isin(cep_cnae_dat_cod_id)], \n",
    "                       df_cep_cnae_DAT_M[df_cep_cnae_DAT_M.COD_ID.isin(cep_cnae_DAT_M_cod_id)],\n",
    "                       df_cep_cnae_DAT_Y[df_cep_cnae_DAT_Y.COD_ID.isin(cep_cnae_DAT_Y_cod_id)],\n",
    "                       df_cep_cnae_num[df_cep_cnae_num.COD_ID.isin(cep_cnae_num_cod_id)], \n",
    "                       df_cep_cnae[df_cep_cnae.COD_ID.isin(cep_cnae_cod_id)],])\n",
    "len(df_concat)"
   ]
  },
  {
   "cell_type": "code",
   "execution_count": null,
   "metadata": {},
   "outputs": [],
   "source": [
    "df_concat.columns.tolist()"
   ]
  },
  {
   "cell_type": "code",
   "execution_count": null,
   "metadata": {},
   "outputs": [],
   "source": [
    "len(df_concat.drop_duplicates(subset=['cnpj', 'COD_ID']))"
   ]
  },
  {
   "cell_type": "code",
   "execution_count": null,
   "metadata": {},
   "outputs": [],
   "source": [
    "len(df_concat.drop_duplicates(subset=['COD_ID']).drop_duplicates(subset=['cnpj']))"
   ]
  },
  {
   "cell_type": "code",
   "execution_count": null,
   "metadata": {},
   "outputs": [],
   "source": [
    "len(df_concat.drop_duplicates(subset=['cnpj']).drop_duplicates(subset=['COD_ID']))"
   ]
  },
  {
   "cell_type": "code",
   "execution_count": null,
   "metadata": {},
   "outputs": [],
   "source": [
    "df_cd_pj = df_concat.drop_duplicates(subset=['COD_ID']).drop_duplicates(subset=['cnpj'])\n",
    "df_pj_cd = df_concat.drop_duplicates(subset=['cnpj']).drop_duplicates(subset=['COD_ID'])\n",
    "\n",
    "#Keeping only the rows that are in both dataframes\n",
    "df_final = pd.merge(df_cd_pj, df_pj_cd, on=df_concat.columns.tolist(), how='inner')\n",
    "df_final.to_csv('data/energia_com_cnpj.csv', index=False)"
   ]
  },
  {
   "cell_type": "code",
   "execution_count": null,
   "metadata": {},
   "outputs": [],
   "source": [
    "len(df_concat.drop_duplicates(subset=['cnpj']))"
   ]
  },
  {
   "cell_type": "code",
   "execution_count": null,
   "metadata": {},
   "outputs": [],
   "source": [
    "len(df_concat.drop_duplicates(subset=['COD_ID']))"
   ]
  },
  {
   "cell_type": "code",
   "execution_count": null,
   "metadata": {},
   "outputs": [],
   "source": [
    "df_concat.to_csv('./data/energia_com_cnpj_baixa_tensao.csv', index=False)"
   ]
  }
 ],
 "metadata": {
  "kernelspec": {
   "display_name": "Python 3",
   "language": "python",
   "name": "python3"
  },
  "language_info": {
   "codemirror_mode": {
    "name": "ipython",
    "version": 3
   },
   "file_extension": ".py",
   "mimetype": "text/x-python",
   "name": "python",
   "nbconvert_exporter": "python",
   "pygments_lexer": "ipython3",
   "version": "3.10.11"
  }
 },
 "nbformat": 4,
 "nbformat_minor": 2
}
